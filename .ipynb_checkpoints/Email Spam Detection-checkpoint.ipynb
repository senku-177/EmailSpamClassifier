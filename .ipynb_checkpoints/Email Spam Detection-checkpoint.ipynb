{
 "cells": [
  {
   "cell_type": "code",
   "execution_count": 1,
   "id": "04ae71c3-3685-4d77-b0c2-21b9cb454f72",
   "metadata": {},
   "outputs": [],
   "source": [
    "import pandas as pd\n",
    "import numpy as np\n"
   ]
  },
  {
   "cell_type": "code",
   "execution_count": 2,
   "id": "8797f04f-4a62-4a2f-948b-54cf92fa920f",
   "metadata": {},
   "outputs": [],
   "source": [
    "df= pd.read_csv('spam_ham_Dataset.csv')\n"
   ]
  },
  {
   "cell_type": "code",
   "execution_count": 3,
   "id": "fc866ae1-d375-41ae-b194-1ba85d9dbce8",
   "metadata": {},
   "outputs": [
    {
     "name": "stdout",
     "output_type": "stream",
     "text": [
      "<class 'pandas.core.frame.DataFrame'>\n",
      "RangeIndex: 5171 entries, 0 to 5170\n",
      "Data columns (total 4 columns):\n",
      " #   Column      Non-Null Count  Dtype \n",
      "---  ------      --------------  ----- \n",
      " 0   Unnamed: 0  5171 non-null   int64 \n",
      " 1   label       5171 non-null   object\n",
      " 2   text        5171 non-null   object\n",
      " 3   label_num   5171 non-null   int64 \n",
      "dtypes: int64(2), object(2)\n",
      "memory usage: 161.7+ KB\n"
     ]
    }
   ],
   "source": [
    "df.info()"
   ]
  },
  {
   "cell_type": "code",
   "execution_count": 4,
   "id": "549b38d0-d18a-425d-a143-0fa75058a507",
   "metadata": {},
   "outputs": [
    {
     "data": {
      "text/html": [
       "<div>\n",
       "<style scoped>\n",
       "    .dataframe tbody tr th:only-of-type {\n",
       "        vertical-align: middle;\n",
       "    }\n",
       "\n",
       "    .dataframe tbody tr th {\n",
       "        vertical-align: top;\n",
       "    }\n",
       "\n",
       "    .dataframe thead th {\n",
       "        text-align: right;\n",
       "    }\n",
       "</style>\n",
       "<table border=\"1\" class=\"dataframe\">\n",
       "  <thead>\n",
       "    <tr style=\"text-align: right;\">\n",
       "      <th></th>\n",
       "      <th>Unnamed: 0</th>\n",
       "      <th>label</th>\n",
       "      <th>text</th>\n",
       "      <th>label_num</th>\n",
       "    </tr>\n",
       "  </thead>\n",
       "  <tbody>\n",
       "    <tr>\n",
       "      <th>4895</th>\n",
       "      <td>3970</td>\n",
       "      <td>spam</td>\n",
       "      <td>Subject: medi . call . y proven to en . lar . ...</td>\n",
       "      <td>1</td>\n",
       "    </tr>\n",
       "    <tr>\n",
       "      <th>1629</th>\n",
       "      <td>5011</td>\n",
       "      <td>spam</td>\n",
       "      <td>Subject: a more radiant you\\r\\nact now . get y...</td>\n",
       "      <td>1</td>\n",
       "    </tr>\n",
       "    <tr>\n",
       "      <th>8</th>\n",
       "      <td>2641</td>\n",
       "      <td>ham</td>\n",
       "      <td>Subject: noms / actual flow for 2 / 26\\r\\nwe a...</td>\n",
       "      <td>0</td>\n",
       "    </tr>\n",
       "    <tr>\n",
       "      <th>4414</th>\n",
       "      <td>4040</td>\n",
       "      <td>spam</td>\n",
       "      <td>Subject: victory at last\\r\\nwed , 09 jun 2004 ...</td>\n",
       "      <td>1</td>\n",
       "    </tr>\n",
       "    <tr>\n",
       "      <th>1893</th>\n",
       "      <td>686</td>\n",
       "      <td>ham</td>\n",
       "      <td>Subject: tufco\\r\\nmy est . for tufco is the sa...</td>\n",
       "      <td>0</td>\n",
       "    </tr>\n",
       "  </tbody>\n",
       "</table>\n",
       "</div>"
      ],
      "text/plain": [
       "      Unnamed: 0 label                                               text  \\\n",
       "4895        3970  spam  Subject: medi . call . y proven to en . lar . ...   \n",
       "1629        5011  spam  Subject: a more radiant you\\r\\nact now . get y...   \n",
       "8           2641   ham  Subject: noms / actual flow for 2 / 26\\r\\nwe a...   \n",
       "4414        4040  spam  Subject: victory at last\\r\\nwed , 09 jun 2004 ...   \n",
       "1893         686   ham  Subject: tufco\\r\\nmy est . for tufco is the sa...   \n",
       "\n",
       "      label_num  \n",
       "4895          1  \n",
       "1629          1  \n",
       "8             0  \n",
       "4414          1  \n",
       "1893          0  "
      ]
     },
     "execution_count": 4,
     "metadata": {},
     "output_type": "execute_result"
    }
   ],
   "source": [
    "df.sample(5)"
   ]
  },
  {
   "cell_type": "code",
   "execution_count": 5,
   "id": "3cf72bf1-19ae-406a-b0d7-2887704ce6f9",
   "metadata": {},
   "outputs": [
    {
     "data": {
      "text/plain": [
       "(5171, 4)"
      ]
     },
     "execution_count": 5,
     "metadata": {},
     "output_type": "execute_result"
    }
   ],
   "source": [
    "df.shape"
   ]
  },
  {
   "cell_type": "code",
   "execution_count": 6,
   "id": "11f3a572-ad6b-4a10-ae3b-7e0ec9cfdab9",
   "metadata": {},
   "outputs": [],
   "source": [
    "df.drop(columns=['Unnamed: 0','label'],inplace=True)"
   ]
  },
  {
   "cell_type": "code",
   "execution_count": 7,
   "id": "1162caf4-6a41-4e52-9942-dece836b2078",
   "metadata": {},
   "outputs": [],
   "source": [
    "df.rename(columns={'label_num':'target'},inplace=True)"
   ]
  },
  {
   "cell_type": "code",
   "execution_count": 8,
   "id": "11de9c8f-c58f-4204-be59-4225bf961493",
   "metadata": {},
   "outputs": [
    {
     "data": {
      "text/html": [
       "<div>\n",
       "<style scoped>\n",
       "    .dataframe tbody tr th:only-of-type {\n",
       "        vertical-align: middle;\n",
       "    }\n",
       "\n",
       "    .dataframe tbody tr th {\n",
       "        vertical-align: top;\n",
       "    }\n",
       "\n",
       "    .dataframe thead th {\n",
       "        text-align: right;\n",
       "    }\n",
       "</style>\n",
       "<table border=\"1\" class=\"dataframe\">\n",
       "  <thead>\n",
       "    <tr style=\"text-align: right;\">\n",
       "      <th></th>\n",
       "      <th>text</th>\n",
       "      <th>target</th>\n",
       "    </tr>\n",
       "  </thead>\n",
       "  <tbody>\n",
       "    <tr>\n",
       "      <th>3461</th>\n",
       "      <td>Subject: potential list - mar . 2001\\r\\ndaren ...</td>\n",
       "      <td>0</td>\n",
       "    </tr>\n",
       "    <tr>\n",
       "      <th>2202</th>\n",
       "      <td>Subject: settelement request for an equistar \"...</td>\n",
       "      <td>0</td>\n",
       "    </tr>\n",
       "    <tr>\n",
       "      <th>1265</th>\n",
       "      <td>Subject: re : shell meters for october\\r\\nshel...</td>\n",
       "      <td>0</td>\n",
       "    </tr>\n",
       "    <tr>\n",
       "      <th>3875</th>\n",
       "      <td>Subject: \\r\\nyou gotta check out h g hormone d...</td>\n",
       "      <td>1</td>\n",
       "    </tr>\n",
       "    <tr>\n",
       "      <th>1702</th>\n",
       "      <td>Subject: sept noms\\r\\n- - - - - - - - - - - - ...</td>\n",
       "      <td>0</td>\n",
       "    </tr>\n",
       "  </tbody>\n",
       "</table>\n",
       "</div>"
      ],
      "text/plain": [
       "                                                   text  target\n",
       "3461  Subject: potential list - mar . 2001\\r\\ndaren ...       0\n",
       "2202  Subject: settelement request for an equistar \"...       0\n",
       "1265  Subject: re : shell meters for october\\r\\nshel...       0\n",
       "3875  Subject: \\r\\nyou gotta check out h g hormone d...       1\n",
       "1702  Subject: sept noms\\r\\n- - - - - - - - - - - - ...       0"
      ]
     },
     "execution_count": 8,
     "metadata": {},
     "output_type": "execute_result"
    }
   ],
   "source": [
    "df.sample(5)"
   ]
  },
  {
   "cell_type": "code",
   "execution_count": 9,
   "id": "868ee0f5-e35b-4f6d-8b87-94a27e74db0f",
   "metadata": {},
   "outputs": [],
   "source": [
    "df[[\"Subject\",\"text\"]] = df[\"text\"].str.split(\"\\r\\n\",n=1,expand=True)"
   ]
  },
  {
   "cell_type": "code",
   "execution_count": 10,
   "id": "e315216e-7c91-4110-921a-c1afb00e6d56",
   "metadata": {},
   "outputs": [],
   "source": [
    "for i in range(df.shape[0]):\n",
    "    text = df.iloc[i][\"text\"]\n",
    "    cleaned_text = \"\"\n",
    "    for char in text:\n",
    "        if char.isalnum() or char == ' ':\n",
    "            cleaned_text += char\n",
    "        else:\n",
    "            cleaned_text+=' '\n",
    "    df.at[i, \"text\"] = cleaned_text\n"
   ]
  },
  {
   "cell_type": "code",
   "execution_count": 11,
   "id": "d422df2a-e47b-4af4-9cb9-6e2395c35a39",
   "metadata": {},
   "outputs": [
    {
     "data": {
      "text/html": [
       "<div>\n",
       "<style scoped>\n",
       "    .dataframe tbody tr th:only-of-type {\n",
       "        vertical-align: middle;\n",
       "    }\n",
       "\n",
       "    .dataframe tbody tr th {\n",
       "        vertical-align: top;\n",
       "    }\n",
       "\n",
       "    .dataframe thead th {\n",
       "        text-align: right;\n",
       "    }\n",
       "</style>\n",
       "<table border=\"1\" class=\"dataframe\">\n",
       "  <thead>\n",
       "    <tr style=\"text-align: right;\">\n",
       "      <th></th>\n",
       "      <th>text</th>\n",
       "      <th>target</th>\n",
       "      <th>Subject</th>\n",
       "    </tr>\n",
       "  </thead>\n",
       "  <tbody>\n",
       "    <tr>\n",
       "      <th>4390</th>\n",
       "      <td>julie    could you please change the following...</td>\n",
       "      <td>0</td>\n",
       "      <td>Subject: guadalupe power partners - march 01 prod</td>\n",
       "    </tr>\n",
       "    <tr>\n",
       "      <th>484</th>\n",
       "      <td>the attached spreadsheet reflects adjustments ...</td>\n",
       "      <td>0</td>\n",
       "      <td>Subject: wellhead adjustments</td>\n",
       "    </tr>\n",
       "    <tr>\n",
       "      <th>1809</th>\n",
       "      <td>the question is not that   cut and dry     how...</td>\n",
       "      <td>0</td>\n",
       "      <td>Subject: re : fw : fw : march 2001 invoice</td>\n",
       "    </tr>\n",
       "    <tr>\n",
       "      <th>2418</th>\n",
       "      <td>enjoy lowpriced m   eds as our customer  rx me...</td>\n",
       "      <td>1</td>\n",
       "      <td>Subject: this service is provided by licensed ...</td>\n",
       "    </tr>\n",
       "    <tr>\n",
       "      <th>4524</th>\n",
       "      <td>darren    i received another invoice for septe...</td>\n",
       "      <td>0</td>\n",
       "      <td>Subject: blue dolpin / august and september 2001</td>\n",
       "    </tr>\n",
       "  </tbody>\n",
       "</table>\n",
       "</div>"
      ],
      "text/plain": [
       "                                                   text  target  \\\n",
       "4390  julie    could you please change the following...       0   \n",
       "484   the attached spreadsheet reflects adjustments ...       0   \n",
       "1809  the question is not that   cut and dry     how...       0   \n",
       "2418  enjoy lowpriced m   eds as our customer  rx me...       1   \n",
       "4524  darren    i received another invoice for septe...       0   \n",
       "\n",
       "                                                Subject  \n",
       "4390  Subject: guadalupe power partners - march 01 prod  \n",
       "484                       Subject: wellhead adjustments  \n",
       "1809         Subject: re : fw : fw : march 2001 invoice  \n",
       "2418  Subject: this service is provided by licensed ...  \n",
       "4524   Subject: blue dolpin / august and september 2001  "
      ]
     },
     "execution_count": 11,
     "metadata": {},
     "output_type": "execute_result"
    }
   ],
   "source": [
    "df.sample(5)"
   ]
  },
  {
   "cell_type": "code",
   "execution_count": 12,
   "id": "3604b27b-1cba-4710-9994-c85af76bc502",
   "metadata": {},
   "outputs": [
    {
     "data": {
      "text/plain": [
       "text       0\n",
       "target     0\n",
       "Subject    0\n",
       "dtype: int64"
      ]
     },
     "execution_count": 12,
     "metadata": {},
     "output_type": "execute_result"
    }
   ],
   "source": [
    "df.isnull().sum()"
   ]
  },
  {
   "cell_type": "code",
   "execution_count": 13,
   "id": "30ff274c-83f5-436d-87bb-56ad6655b116",
   "metadata": {},
   "outputs": [
    {
     "data": {
      "text/plain": [
       "178"
      ]
     },
     "execution_count": 13,
     "metadata": {},
     "output_type": "execute_result"
    }
   ],
   "source": [
    "df.duplicated().sum()"
   ]
  },
  {
   "cell_type": "code",
   "execution_count": 14,
   "id": "1252e5bb-2aa1-438f-8fa8-c80fa7ca3949",
   "metadata": {},
   "outputs": [],
   "source": [
    "df= df.drop_duplicates(keep='first')"
   ]
  },
  {
   "cell_type": "code",
   "execution_count": 15,
   "id": "9508605c-f650-4f15-8369-082720b5fdd5",
   "metadata": {},
   "outputs": [
    {
     "data": {
      "text/html": [
       "<div>\n",
       "<style scoped>\n",
       "    .dataframe tbody tr th:only-of-type {\n",
       "        vertical-align: middle;\n",
       "    }\n",
       "\n",
       "    .dataframe tbody tr th {\n",
       "        vertical-align: top;\n",
       "    }\n",
       "\n",
       "    .dataframe thead th {\n",
       "        text-align: right;\n",
       "    }\n",
       "</style>\n",
       "<table border=\"1\" class=\"dataframe\">\n",
       "  <thead>\n",
       "    <tr style=\"text-align: right;\">\n",
       "      <th></th>\n",
       "      <th>text</th>\n",
       "      <th>target</th>\n",
       "      <th>Subject</th>\n",
       "    </tr>\n",
       "  </thead>\n",
       "  <tbody>\n",
       "    <tr>\n",
       "      <th>617</th>\n",
       "      <td>fo...</td>\n",
       "      <td>0</td>\n",
       "      <td>Subject: josey ranch est . - - apr . 2000</td>\n",
       "    </tr>\n",
       "    <tr>\n",
       "      <th>1840</th>\n",
       "      <td>revision   according to measurement   there is...</td>\n",
       "      <td>0</td>\n",
       "      <td>Subject: revision - black marlin - meter 98678...</td>\n",
       "    </tr>\n",
       "    <tr>\n",
       "      <th>4417</th>\n",
       "      <td>cashout lotto bv  cashout plaza   suite 1102 a...</td>\n",
       "      <td>1</td>\n",
       "      <td>Subject: claim your winnings ! ! !</td>\n",
       "    </tr>\n",
       "    <tr>\n",
       "      <th>1006</th>\n",
       "      <td>the permanent fix to penis enlargement  limite...</td>\n",
       "      <td>1</td>\n",
       "      <td>Subject:</td>\n",
       "    </tr>\n",
       "    <tr>\n",
       "      <th>37</th>\n",
       "      <td>please see the attached file for on   call not...</td>\n",
       "      <td>0</td>\n",
       "      <td>Subject: on - call notes</td>\n",
       "    </tr>\n",
       "  </tbody>\n",
       "</table>\n",
       "</div>"
      ],
      "text/plain": [
       "                                                   text  target  \\\n",
       "617                                               fo...       0   \n",
       "1840  revision   according to measurement   there is...       0   \n",
       "4417  cashout lotto bv  cashout plaza   suite 1102 a...       1   \n",
       "1006  the permanent fix to penis enlargement  limite...       1   \n",
       "37    please see the attached file for on   call not...       0   \n",
       "\n",
       "                                                Subject  \n",
       "617           Subject: josey ranch est . - - apr . 2000  \n",
       "1840  Subject: revision - black marlin - meter 98678...  \n",
       "4417                 Subject: claim your winnings ! ! !  \n",
       "1006                                          Subject:   \n",
       "37                             Subject: on - call notes  "
      ]
     },
     "execution_count": 15,
     "metadata": {},
     "output_type": "execute_result"
    }
   ],
   "source": [
    "df.sample(5)"
   ]
  },
  {
   "cell_type": "code",
   "execution_count": 16,
   "id": "0d9c4aba-716d-4339-b0bf-3e8fec335024",
   "metadata": {},
   "outputs": [
    {
     "data": {
      "text/plain": [
       "target\n",
       "0    3531\n",
       "1    1462\n",
       "Name: count, dtype: int64"
      ]
     },
     "execution_count": 16,
     "metadata": {},
     "output_type": "execute_result"
    }
   ],
   "source": [
    "df['target'].value_counts()"
   ]
  },
  {
   "cell_type": "code",
   "execution_count": 28,
   "id": "2fda330f-b997-47dc-bc94-6d1aacd1cea0",
   "metadata": {},
   "outputs": [
    {
     "name": "stderr",
     "output_type": "stream",
     "text": [
      "[nltk_data] Downloading package punkt to\n",
      "[nltk_data]     C:\\Users\\goyal\\AppData\\Roaming\\nltk_data...\n",
      "[nltk_data]   Package punkt is already up-to-date!\n",
      "[nltk_data] Downloading package stopwords to\n",
      "[nltk_data]     C:\\Users\\goyal\\AppData\\Roaming\\nltk_data...\n",
      "[nltk_data]   Unzipping corpora\\stopwords.zip.\n"
     ]
    },
    {
     "data": {
      "text/plain": [
       "True"
      ]
     },
     "execution_count": 28,
     "metadata": {},
     "output_type": "execute_result"
    }
   ],
   "source": [
    "import nltk\n",
    "nltk.download('punkt')\n",
    "nltk.download('stopwords')"
   ]
  },
  {
   "cell_type": "code",
   "execution_count": 36,
   "id": "14c29c8d-6bbc-4f7f-9a1f-38012b361c97",
   "metadata": {},
   "outputs": [],
   "source": [
    "import string\n",
    "from nltk.corpus import stopwords\n",
    "from nltk.stem.porter import PorterStemmer\n",
    "ps=PorterStemmer()"
   ]
  },
  {
   "cell_type": "code",
   "execution_count": 77,
   "id": "15ea35d9-3ecf-42c9-8ea8-ef9e65d6d96b",
   "metadata": {},
   "outputs": [],
   "source": [
    "def textProcess(text):\n",
    "    text=text.lower()\n",
    "    text= nltk.word_tokenize(text)\n",
    "    y=[]\n",
    "    for i in text:\n",
    "        if i.isalpha():\n",
    "            y.append(i)\n",
    "    text=y[:]\n",
    "    y.clear()\n",
    "    for i in text:\n",
    "        if i not in stopwords.words('english') and i not in string.punctuation:\n",
    "            y.append(ps.stem(i))\n",
    "            \n",
    "    text=y[:]\n",
    "    return \" \".join(text)"
   ]
  },
  {
   "cell_type": "code",
   "execution_count": 78,
   "id": "e8f07bdd-c3b9-4436-966f-42e98519a2a0",
   "metadata": {},
   "outputs": [
    {
     "data": {
      "text/plain": [
       "'like present ml'"
      ]
     },
     "execution_count": 78,
     "metadata": {},
     "output_type": "execute_result"
    }
   ],
   "source": [
    "textProcess(\"Did you liked my presentation on ML?\")"
   ]
  },
  {
   "cell_type": "code",
   "execution_count": 79,
   "id": "2f1f3e57-1a6f-41a1-a65c-9e8bb0fd8610",
   "metadata": {},
   "outputs": [],
   "source": [
    "df['transformed_text']=df['text'].apply(textProcess)"
   ]
  },
  {
   "cell_type": "code",
   "execution_count": 80,
   "id": "6d70400b-c464-48b0-831f-1f1e29c48c52",
   "metadata": {},
   "outputs": [],
   "source": [
    "def subjectTransform(subject):\n",
    "      return subject.replace(\"Subject:\", \"\", 1).lstrip()"
   ]
  },
  {
   "cell_type": "code",
   "execution_count": 81,
   "id": "fd0367c3-e9cd-47f4-a6f5-2d52e796c0f1",
   "metadata": {},
   "outputs": [],
   "source": [
    "df[\"Subject\"]=df['Subject'].apply(subjectTransform)\n",
    "df[\"Subject\"]=df['Subject'].apply(textProcess)"
   ]
  },
  {
   "cell_type": "code",
   "execution_count": 82,
   "id": "f87f80f9-5887-466f-9677-6c9fa920ff07",
   "metadata": {},
   "outputs": [
    {
     "data": {
      "text/html": [
       "<div>\n",
       "<style scoped>\n",
       "    .dataframe tbody tr th:only-of-type {\n",
       "        vertical-align: middle;\n",
       "    }\n",
       "\n",
       "    .dataframe tbody tr th {\n",
       "        vertical-align: top;\n",
       "    }\n",
       "\n",
       "    .dataframe thead th {\n",
       "        text-align: right;\n",
       "    }\n",
       "</style>\n",
       "<table border=\"1\" class=\"dataframe\">\n",
       "  <thead>\n",
       "    <tr style=\"text-align: right;\">\n",
       "      <th></th>\n",
       "      <th>text</th>\n",
       "      <th>target</th>\n",
       "      <th>Subject</th>\n",
       "      <th>transformed_text</th>\n",
       "    </tr>\n",
       "  </thead>\n",
       "  <tbody>\n",
       "    <tr>\n",
       "      <th>2938</th>\n",
       "      <td>daren    on 4   18   99   the above meter reco...</td>\n",
       "      <td>0</td>\n",
       "      <td>hpl meter taft plant resid arco hpl</td>\n",
       "      <td>daren meter record flow mmbtu deal meter march...</td>\n",
       "    </tr>\n",
       "    <tr>\n",
       "      <th>569</th>\n",
       "      <td>daren   canyou get a deal set up for meter 559...</td>\n",
       "      <td>0</td>\n",
       "      <td>meter</td>\n",
       "      <td>daren canyou get deal set meter aug small amou...</td>\n",
       "    </tr>\n",
       "    <tr>\n",
       "      <th>5133</th>\n",
       "      <td>daren    i received a revised nomination from ...</td>\n",
       "      <td>0</td>\n",
       "      <td>revi nomin codi energi</td>\n",
       "      <td>daren receiv revis nomin codi energi request v...</td>\n",
       "    </tr>\n",
       "    <tr>\n",
       "      <th>2485</th>\n",
       "      <td>we have all your health products  breakthrough...</td>\n",
       "      <td>1</td>\n",
       "      <td>health product</td>\n",
       "      <td>health product breakthrough medic scienc enabl...</td>\n",
       "    </tr>\n",
       "    <tr>\n",
       "      <th>1017</th>\n",
       "      <td>search for sexual partners in your areaclick h...</td>\n",
       "      <td>1</td>\n",
       "      <td>best free adult date</td>\n",
       "      <td>search sexual partner areaclick</td>\n",
       "    </tr>\n",
       "  </tbody>\n",
       "</table>\n",
       "</div>"
      ],
      "text/plain": [
       "                                                   text  target  \\\n",
       "2938  daren    on 4   18   99   the above meter reco...       0   \n",
       "569   daren   canyou get a deal set up for meter 559...       0   \n",
       "5133  daren    i received a revised nomination from ...       0   \n",
       "2485  we have all your health products  breakthrough...       1   \n",
       "1017  search for sexual partners in your areaclick h...       1   \n",
       "\n",
       "                                  Subject  \\\n",
       "2938  hpl meter taft plant resid arco hpl   \n",
       "569                                 meter   \n",
       "5133               revi nomin codi energi   \n",
       "2485                       health product   \n",
       "1017                 best free adult date   \n",
       "\n",
       "                                       transformed_text  \n",
       "2938  daren meter record flow mmbtu deal meter march...  \n",
       "569   daren canyou get deal set meter aug small amou...  \n",
       "5133  daren receiv revis nomin codi energi request v...  \n",
       "2485  health product breakthrough medic scienc enabl...  \n",
       "1017                    search sexual partner areaclick  "
      ]
     },
     "execution_count": 82,
     "metadata": {},
     "output_type": "execute_result"
    }
   ],
   "source": [
    "df.sample(5)"
   ]
  },
  {
   "cell_type": "code",
   "execution_count": 83,
   "id": "a96e99d7-435e-4163-9cc4-057abb93a8f4",
   "metadata": {},
   "outputs": [],
   "source": [
    "from collections import Counter"
   ]
  },
  {
   "cell_type": "code",
   "execution_count": 84,
   "id": "c226da16-d265-44fc-8b86-59398c39ed37",
   "metadata": {},
   "outputs": [],
   "source": [
    "spam_corpus=[]\n",
    "for msg in df[df['target']==1]['transformed_text'].tolist():\n",
    "    for word in msg.split():\n",
    "        spam_corpus.append(word)\n",
    "\n",
    "spam_subject_corpus=[]\n",
    "for subject in df[df['target']==1]['Subject'].tolist():\n",
    "    for word in subject.split():\n",
    "        spam_subject_corpus.append(word)"
   ]
  },
  {
   "cell_type": "code",
   "execution_count": 112,
   "id": "e1fb9b1a-1278-4182-818b-d92dc8b00d8c",
   "metadata": {},
   "outputs": [
    {
     "data": {
      "image/png": "[encoded data removed]",
      "text/plain": [
       "<Figure size 640x480 with 1 Axes>"
      ]
     },
     "metadata": {},
     "output_type": "display_data"
    },
    {
     "data": {
      "image/png": "[encoded data removed]",
      "text/plain": [
       "<Figure size 640x480 with 1 Axes>"
      ]
     },
     "metadata": {},
     "output_type": "display_data"
    }
   ],
   "source": [
    "import seaborn as sns\n",
    "import matplotlib.pyplot as plt\n",
    "sns.barplot(x=pd.DataFrame(Counter(spam_subject_corpus).most_common(40))[0],y=pd.DataFrame(Counter(spam_subject_corpus).most_common(40))[1])\n",
    "plt.xticks(rotation='vertical')\n",
    "plt.title('Subject')\n",
    "plt.show()\n",
    "\n",
    "sns.barplot(x=pd.DataFrame(Counter(spam_corpus).most_common(40))[0],y=pd.DataFrame(Counter(spam_corpus).most_common(40))[1])\n",
    "plt.xticks(rotation='vertical')\n",
    "plt.title('spam_text')\n",
    "plt.show()\n"
   ]
  },
  {
   "cell_type": "markdown",
   "id": "a85f87e1-3568-4764-9c60-9bc3d198e3d4",
   "metadata": {},
   "source": [
    "Model Building Naive Bayes"
   ]
  },
  {
   "cell_type": "code",
   "execution_count": 132,
   "id": "d708b395-316a-4aa2-89a0-7306ccd14f6c",
   "metadata": {},
   "outputs": [],
   "source": [
    "from sklearn.model_selection import train_test_split\n",
    "from sklearn.feature_extraction.text import CountVectorizer\n",
    "from sklearn.naive_bayes import GaussianNB, MultinomialNB,BernoulliNB\n",
    "from sklearn.metrics import accuracy_score, precision_score, confusion_matrix"
   ]
  },
  {
   "cell_type": "code",
   "execution_count": 133,
   "id": "b6541e43-3e1e-42d4-83c1-467c37494bd0",
   "metadata": {},
   "outputs": [],
   "source": [
    "cv=CountVectorizer()\n",
    "y= df['target'].values\n",
    "X_text= cv.fit_transform(df['transformed_text']).toarray()\n",
    "X_subject= cv.fit_transform(df['Subject']).toarray()"
   ]
  },
  {
   "cell_type": "code",
   "execution_count": 134,
   "id": "b818770a-232c-4cfa-a203-97dd85a5a2cf",
   "metadata": {},
   "outputs": [],
   "source": [
    "X_train, X_test,Y_train,Y_test= train_test_split(X_text,y,test_size=0.2,random_state=42)\n"
   ]
  },
  {
   "cell_type": "code",
   "execution_count": 135,
   "id": "b9e25864-a644-4d52-bf01-8d93b3b14fbe",
   "metadata": {},
   "outputs": [],
   "source": [
    "gnb= GaussianNB()\n",
    "bnb= BernoulliNB()\n",
    "mnb= MultinomialNB()\n"
   ]
  },
  {
   "cell_type": "code",
   "execution_count": 140,
   "id": "3ee7fc5b-ca3a-4199-92b6-13e253fffeb6",
   "metadata": {},
   "outputs": [
    {
     "name": "stdout",
     "output_type": "stream",
     "text": [
      "0.9469469469469469\n",
      "[[713  19]\n",
      " [ 34 233]]\n",
      "0.9246031746031746\n"
     ]
    }
   ],
   "source": [
    "gnb.fit(X_train,Y_train)\n",
    "y_preds1=gnb.predict(X_test)\n",
    "print(accuracy_score(Y_test,y_preds1))\n",
    "print(confusion_matrix(Y_test,y_preds1))\n",
    "print(precision_score(Y_test,y_preds1))"
   ]
  },
  {
   "cell_type": "code",
   "execution_count": 146,
   "id": "e0805084-35dc-4f55-a2c8-eadb5a01c1ed",
   "metadata": {},
   "outputs": [
    {
     "name": "stdout",
     "output_type": "stream",
     "text": [
      "0.8648648648648649\n",
      "[[716  16]\n",
      " [119 148]]\n",
      "0.9024390243902439\n"
     ]
    }
   ],
   "source": [
    "bnb.fit(X_train,Y_train)\n",
    "y_preds2=bnb.predict(X_test)\n",
    "print(accuracy_score(Y_test,y_preds2))\n",
    "print(confusion_matrix(Y_test,y_preds2))\n",
    "print(precision_score(Y_test,y_preds2))"
   ]
  },
  {
   "cell_type": "code",
   "execution_count": 147,
   "id": "4ab426c2-a577-4ee2-a5bd-231c2ce29253",
   "metadata": {},
   "outputs": [
    {
     "name": "stdout",
     "output_type": "stream",
     "text": [
      "0.9669669669669669\n",
      "[[719  13]\n",
      " [ 20 247]]\n",
      "0.95\n"
     ]
    }
   ],
   "source": [
    "mnb.fit(X_train,Y_train)\n",
    "y_preds3=mnb.predict(X_test)\n",
    "print(accuracy_score(Y_test,y_preds3))\n",
    "print(confusion_matrix(Y_test,y_preds3))\n",
    "print(precision_score(Y_test,y_preds3))"
   ]
  },
  {
   "cell_type": "code",
   "execution_count": 148,
   "id": "b370cd5e-efed-4573-abe5-051d57f9df6d",
   "metadata": {},
   "outputs": [],
   "source": [
    "X_sub_train, X_sub_test, Y_train, Y_test= train_test_split(X_subject,y,test_size=0.2,random_state=42)"
   ]
  },
  {
   "cell_type": "code",
   "execution_count": 149,
   "id": "6f0fbb08-0a78-4bed-90f2-e90d2aa48c53",
   "metadata": {},
   "outputs": [
    {
     "name": "stdout",
     "output_type": "stream",
     "text": [
      "0.9049049049049049\n",
      "[[702  30]\n",
      " [ 65 202]]\n",
      "0.8706896551724138\n"
     ]
    }
   ],
   "source": [
    "mnb.fit(X_sub_train,Y_train)\n",
    "y_preds4=mnb.predict(X_sub_test)\n",
    "print(accuracy_score(Y_test,y_preds4))\n",
    "print(confusion_matrix(Y_test,y_preds4))\n",
    "print(precision_score(Y_test,y_preds4))"
   ]
  },
  {
   "cell_type": "code",
   "execution_count": 152,
   "id": "4fe9deb9-aedc-4f3c-93db-1608e6a954d1",
   "metadata": {},
   "outputs": [
    {
     "name": "stdout",
     "output_type": "stream",
     "text": [
      "0.8888888888888888\n",
      "[[718  14]\n",
      " [ 97 170]]\n",
      "0.9239130434782609\n"
     ]
    }
   ],
   "source": [
    "gnb.fit(X_sub_train,Y_train)\n",
    "y_preds4=gnb.predict(X_sub_test)\n",
    "print(accuracy_score(Y_test,y_preds4))\n",
    "print(confusion_matrix(Y_test,y_preds4))\n",
    "print(precision_score(Y_test,y_preds4))"
   ]
  },
  {
   "cell_type": "code",
   "execution_count": null,
   "id": "1c56b169-65cc-453d-aedf-a1a8879e22a0",
   "metadata": {},
   "outputs": [],
   "source": []
  },
  {
   "cell_type": "code",
   "execution_count": 154,
   "id": "1ac227c2-ffd6-49f6-ba80-a707dad801a1",
   "metadata": {},
   "outputs": [],
   "source": [
    "df['combined']=df['Subject']+df['text']"
   ]
  },
  {
   "cell_type": "code",
   "execution_count": 155,
   "id": "6350394f-988d-4de4-a46e-3d62944cbeaa",
   "metadata": {},
   "outputs": [
    {
     "data": {
      "text/html": [
       "<div>\n",
       "<style scoped>\n",
       "    .dataframe tbody tr th:only-of-type {\n",
       "        vertical-align: middle;\n",
       "    }\n",
       "\n",
       "    .dataframe tbody tr th {\n",
       "        vertical-align: top;\n",
       "    }\n",
       "\n",
       "    .dataframe thead th {\n",
       "        text-align: right;\n",
       "    }\n",
       "</style>\n",
       "<table border=\"1\" class=\"dataframe\">\n",
       "  <thead>\n",
       "    <tr style=\"text-align: right;\">\n",
       "      <th></th>\n",
       "      <th>text</th>\n",
       "      <th>target</th>\n",
       "      <th>Subject</th>\n",
       "      <th>transformed_text</th>\n",
       "      <th>combined</th>\n",
       "    </tr>\n",
       "  </thead>\n",
       "  <tbody>\n",
       "    <tr>\n",
       "      <th>2250</th>\n",
       "      <td>we will soon be migrating to windows 2000 and ...</td>\n",
       "      <td>0</td>\n",
       "      <td>window outlook</td>\n",
       "      <td>soon migrat window outlook texa desk schedul t...</td>\n",
       "      <td>window outlookwe will soon be migrating to win...</td>\n",
       "    </tr>\n",
       "    <tr>\n",
       "      <th>4127</th>\n",
       "      <td>we agree    eileen ponton   on 04   27   2001 ...</td>\n",
       "      <td>0</td>\n",
       "      <td>nom actual vol april th</td>\n",
       "      <td>agre eileen ponton david avila lsp enserch us ...</td>\n",
       "      <td>nom actual vol april thwe agree    eileen pont...</td>\n",
       "    </tr>\n",
       "    <tr>\n",
       "      <th>4773</th>\n",
       "      <td>hello    my boyfriend began having problems wi...</td>\n",
       "      <td>1</td>\n",
       "      <td>confid back</td>\n",
       "      <td>hello boyfriend began problem erect older sugg...</td>\n",
       "      <td>confid backhello    my boyfriend began having ...</td>\n",
       "    </tr>\n",
       "    <tr>\n",
       "      <th>5138</th>\n",
       "      <td>it has been taken care of   let me know if you...</td>\n",
       "      <td>0</td>\n",
       "      <td>black marlin</td>\n",
       "      <td>taken care let know need anythign origin messa...</td>\n",
       "      <td>black marlinit has been taken care of   let me...</td>\n",
       "    </tr>\n",
       "    <tr>\n",
       "      <th>3715</th>\n",
       "      <td>seven pose book solve   appear   look pick eac...</td>\n",
       "      <td>1</td>\n",
       "      <td>look cheap high qualiti softwar sacrifici veloc</td>\n",
       "      <td>seven pose book solv appear look pick two answ...</td>\n",
       "      <td>look cheap high qualiti softwar sacrifici velo...</td>\n",
       "    </tr>\n",
       "  </tbody>\n",
       "</table>\n",
       "</div>"
      ],
      "text/plain": [
       "                                                   text  target  \\\n",
       "2250  we will soon be migrating to windows 2000 and ...       0   \n",
       "4127  we agree    eileen ponton   on 04   27   2001 ...       0   \n",
       "4773  hello    my boyfriend began having problems wi...       1   \n",
       "5138  it has been taken care of   let me know if you...       0   \n",
       "3715  seven pose book solve   appear   look pick eac...       1   \n",
       "\n",
       "                                              Subject  \\\n",
       "2250                                   window outlook   \n",
       "4127                          nom actual vol april th   \n",
       "4773                                      confid back   \n",
       "5138                                     black marlin   \n",
       "3715  look cheap high qualiti softwar sacrifici veloc   \n",
       "\n",
       "                                       transformed_text  \\\n",
       "2250  soon migrat window outlook texa desk schedul t...   \n",
       "4127  agre eileen ponton david avila lsp enserch us ...   \n",
       "4773  hello boyfriend began problem erect older sugg...   \n",
       "5138  taken care let know need anythign origin messa...   \n",
       "3715  seven pose book solv appear look pick two answ...   \n",
       "\n",
       "                                               combined  \n",
       "2250  window outlookwe will soon be migrating to win...  \n",
       "4127  nom actual vol april thwe agree    eileen pont...  \n",
       "4773  confid backhello    my boyfriend began having ...  \n",
       "5138  black marlinit has been taken care of   let me...  \n",
       "3715  look cheap high qualiti softwar sacrifici velo...  "
      ]
     },
     "execution_count": 155,
     "metadata": {},
     "output_type": "execute_result"
    }
   ],
   "source": [
    "df.sample(5)"
   ]
  },
  {
   "cell_type": "code",
   "execution_count": 215,
   "id": "e199adc7-1919-499d-996a-903106fb234e",
   "metadata": {},
   "outputs": [],
   "source": [
    "X_combined= cv.fit_transform(df['combined']).toarray()"
   ]
  },
  {
   "cell_type": "code",
   "execution_count": 216,
   "id": "894b9db3-262f-4646-95a4-737fdcae425a",
   "metadata": {},
   "outputs": [],
   "source": [
    "X_combined_train,X_combined_test,Y_train,Y_test=train_test_split(X_combined,y,test_size=0.2,random_state=42)"
   ]
  },
  {
   "cell_type": "code",
   "execution_count": 217,
   "id": "9f4e0b76-7582-4b69-8ea6-4565bf607666",
   "metadata": {},
   "outputs": [],
   "source": [
    "gnb1=GaussianNB()\n",
    "mnb1=MultinomialNB()"
   ]
  },
  {
   "cell_type": "code",
   "execution_count": 218,
   "id": "f1c8466e-15ee-4429-8e93-fa24e37ed450",
   "metadata": {},
   "outputs": [
    {
     "name": "stdout",
     "output_type": "stream",
     "text": [
      "0.9679679679679679\n",
      "[[720  12]\n",
      " [ 20 247]]\n",
      "0.9536679536679536\n"
     ]
    }
   ],
   "source": [
    "gnb1.fit(X_combined_train,Y_train)\n",
    "y_preds4=gnb1.predict(X_combined_test)\n",
    "print(accuracy_score(Y_test,y_preds4))\n",
    "print(confusion_matrix(Y_test,y_preds4))\n",
    "print(precision_score(Y_test,y_preds4))"
   ]
  },
  {
   "cell_type": "code",
   "execution_count": 219,
   "id": "4a05fa9a-32fd-4b8a-8d08-0a3c3fd20568",
   "metadata": {},
   "outputs": [
    {
     "name": "stdout",
     "output_type": "stream",
     "text": [
      "0.980980980980981\n",
      "[[722  10]\n",
      " [  9 258]]\n",
      "0.9626865671641791\n"
     ]
    }
   ],
   "source": [
    "mnb1.fit(X_combined_train,Y_train)\n",
    "y_preds4=mnb1.predict(X_combined_test)\n",
    "print(accuracy_score(Y_test,y_preds4))\n",
    "print(confusion_matrix(Y_test,y_preds4))\n",
    "print(precision_score(Y_test,y_preds4))"
   ]
  },
  {
   "cell_type": "code",
   "execution_count": 207,
   "id": "3ead7d85-5521-4e1b-9587-80206b826c5e",
   "metadata": {},
   "outputs": [],
   "source": [
    "from sklearn.feature_extraction.text import TfidfVectorizer\n",
    "tfidf=TfidfVectorizer()\n",
    "X_combined=tfidf.fit_transform(df['combined']).toarray()"
   ]
  },
  {
   "cell_type": "code",
   "execution_count": 208,
   "id": "edeb8a7b-9186-47cb-8b45-d41cd9446ece",
   "metadata": {},
   "outputs": [],
   "source": [
    "X_combined_train,X_combined_test,Y_train,Y_test=train_test_split(X_combined,y,test_size=0.2,random_state=42)"
   ]
  },
  {
   "cell_type": "code",
   "execution_count": 209,
   "id": "c2a7122f-9680-49d2-84fb-d5862c80b5dd",
   "metadata": {},
   "outputs": [
    {
     "name": "stdout",
     "output_type": "stream",
     "text": [
      "0.8798798798798799\n",
      "[[732   0]\n",
      " [120 147]]\n",
      "1.0\n"
     ]
    }
   ],
   "source": [
    "mnb1.fit(X_combined_train,Y_train)\n",
    "y_preds4=mnb1.predict(X_combined_test)\n",
    "print(accuracy_score(Y_test,y_preds4))\n",
    "print(confusion_matrix(Y_test,y_preds4))\n",
    "print(precision_score(Y_test,y_preds4))"
   ]
  },
  {
   "cell_type": "code",
   "execution_count": 210,
   "id": "3cd648f7-7395-4750-9be7-05deee4c0e72",
   "metadata": {},
   "outputs": [
    {
     "name": "stdout",
     "output_type": "stream",
     "text": [
      "0.953953953953954\n",
      "[[703  29]\n",
      " [ 17 250]]\n",
      "0.8960573476702509\n"
     ]
    }
   ],
   "source": [
    "gnb1.fit(X_combined_train,Y_train)\n",
    "y_preds4=gnb1.predict(X_combined_test)\n",
    "print(accuracy_score(Y_test,y_preds4))\n",
    "print(confusion_matrix(Y_test,y_preds4))\n",
    "print(precision_score(Y_test,y_preds4))"
   ]
  },
  {
   "cell_type": "code",
   "execution_count": 213,
   "id": "6935071f-0835-4d43-998f-672bce83ebdf",
   "metadata": {},
   "outputs": [],
   "source": [
    "bnb1=BernoulliNB()"
   ]
  },
  {
   "cell_type": "code",
   "execution_count": 220,
   "id": "ebd9d509-55c3-4557-94ee-480e78616e57",
   "metadata": {},
   "outputs": [
    {
     "name": "stdout",
     "output_type": "stream",
     "text": [
      "0.8768768768768769\n",
      "[[718  14]\n",
      " [109 158]]\n",
      "0.9186046511627907\n"
     ]
    }
   ],
   "source": [
    "bnb1.fit(X_combined_train,Y_train)\n",
    "y_preds4=bnb1.predict(X_combined_test)\n",
    "print(accuracy_score(Y_test,y_preds4))\n",
    "print(confusion_matrix(Y_test,y_preds4))\n",
    "print(precision_score(Y_test,y_preds4))"
   ]
  },
  {
   "cell_type": "code",
   "execution_count": 222,
   "id": "c6c78a1e-c57b-459f-826a-3c6d94ccf9e5",
   "metadata": {},
   "outputs": [],
   "source": [
    "from sklearn.ensemble import RandomForestClassifier, ExtraTreesClassifier\n",
    "from sklearn.svm import SVC"
   ]
  },
  {
   "cell_type": "code",
   "execution_count": 224,
   "id": "66877d66-2950-4229-a39e-e25a3bfe2f04",
   "metadata": {},
   "outputs": [],
   "source": [
    "svc=SVC(kernel='sigmoid',gamma=1.0)\n",
    "etc=ExtraTreesClassifier(n_estimators=50,random_state=42)\n",
    "rfc= RandomForestClassifier(n_estimators=50,random_state=42)"
   ]
  },
  {
   "cell_type": "code",
   "execution_count": 225,
   "id": "14970006-8985-4eb9-8692-d7ab56f3d91a",
   "metadata": {},
   "outputs": [],
   "source": [
    "clfs={\n",
    "    'SVC':svc,\n",
    "    'ETC':etc,\n",
    "    'RFC':rfc,\n",
    "    'MultiNB':mnb1,\n",
    "    'GaussNB':gnb1\n",
    "}"
   ]
  },
  {
   "cell_type": "code",
   "execution_count": 226,
   "id": "ba466c49-87c3-4ce9-a4b0-20ca96dedca7",
   "metadata": {},
   "outputs": [],
   "source": [
    "def train_classifier(clf,X_train,X_test,Y_train,Y_test):\n",
    "    clf.fit(X_train,Y_train)\n",
    "    y_preds=clf.predict(X_test)\n",
    "    accuracy=accuracy_score(Y_test,y_preds)\n",
    "    precision=precision_score(Y_test,y_preds)\n",
    "    return accuracy,precision"
   ]
  },
  {
   "cell_type": "code",
   "execution_count": 229,
   "id": "257ad4ab-cd63-471d-bff4-254e0465b046",
   "metadata": {},
   "outputs": [
    {
     "name": "stdout",
     "output_type": "stream",
     "text": [
      "for  SVC\n",
      "Accuracy:  0.7097097097097097\n",
      "Precision:  0.45627376425855515\n",
      "for  ETC\n",
      "Accuracy:  0.963963963963964\n",
      "Precision:  0.9565217391304348\n",
      "for  RFC\n",
      "Accuracy:  0.948948948948949\n",
      "Precision:  0.921875\n",
      "for  MultiNB\n",
      "Accuracy:  0.980980980980981\n",
      "Precision:  0.9626865671641791\n"
     ]
    },
    {
     "ename": "MemoryError",
     "evalue": "Unable to allocate 1.12 GiB for an array with shape (2799, 53809) and data type float64",
     "output_type": "error",
     "traceback": [
      "\u001b[1;31m---------------------------------------------------------------------------\u001b[0m",
      "\u001b[1;31mMemoryError\u001b[0m                               Traceback (most recent call last)",
      "Cell \u001b[1;32mIn[229], line 5\u001b[0m\n\u001b[0;32m      3\u001b[0m precision_scores\u001b[38;5;241m=\u001b[39m[]\n\u001b[0;32m      4\u001b[0m \u001b[38;5;28;01mfor\u001b[39;00m name,clf \u001b[38;5;129;01min\u001b[39;00m clfs\u001b[38;5;241m.\u001b[39mitems():\n\u001b[1;32m----> 5\u001b[0m     current_accuracy,current_precision\u001b[38;5;241m=\u001b[39m\u001b[43mtrain_classifier\u001b[49m\u001b[43m(\u001b[49m\u001b[43mclf\u001b[49m\u001b[43m,\u001b[49m\u001b[43mX_combined_train\u001b[49m\u001b[43m,\u001b[49m\u001b[43mX_combined_test\u001b[49m\u001b[43m,\u001b[49m\u001b[43mY_train\u001b[49m\u001b[43m,\u001b[49m\u001b[43mY_test\u001b[49m\u001b[43m)\u001b[49m\n\u001b[0;32m      6\u001b[0m     \u001b[38;5;28mprint\u001b[39m(\u001b[38;5;124m\"\u001b[39m\u001b[38;5;124mfor \u001b[39m\u001b[38;5;124m\"\u001b[39m,name)\n\u001b[0;32m      7\u001b[0m     \u001b[38;5;28mprint\u001b[39m(\u001b[38;5;124m\"\u001b[39m\u001b[38;5;124mAccuracy: \u001b[39m\u001b[38;5;124m\"\u001b[39m, current_accuracy)\n",
      "Cell \u001b[1;32mIn[226], line 2\u001b[0m, in \u001b[0;36mtrain_classifier\u001b[1;34m(clf, X_train, X_test, Y_train, Y_test)\u001b[0m\n\u001b[0;32m      1\u001b[0m \u001b[38;5;28;01mdef\u001b[39;00m \u001b[38;5;21mtrain_classifier\u001b[39m(clf,X_train,X_test,Y_train,Y_test):\n\u001b[1;32m----> 2\u001b[0m     \u001b[43mclf\u001b[49m\u001b[38;5;241;43m.\u001b[39;49m\u001b[43mfit\u001b[49m\u001b[43m(\u001b[49m\u001b[43mX_train\u001b[49m\u001b[43m,\u001b[49m\u001b[43mY_train\u001b[49m\u001b[43m)\u001b[49m\n\u001b[0;32m      3\u001b[0m     y_preds\u001b[38;5;241m=\u001b[39mclf\u001b[38;5;241m.\u001b[39mpredict(X_test)\n\u001b[0;32m      4\u001b[0m     accuracy\u001b[38;5;241m=\u001b[39maccuracy_score(Y_test,y_preds)\n",
      "File \u001b[1;32mD:\\code\\Anaconda\\Email Spam Classifier\\EmailClassifier\\Lib\\site-packages\\sklearn\\base.py:1474\u001b[0m, in \u001b[0;36m_fit_context.<locals>.decorator.<locals>.wrapper\u001b[1;34m(estimator, *args, **kwargs)\u001b[0m\n\u001b[0;32m   1467\u001b[0m     estimator\u001b[38;5;241m.\u001b[39m_validate_params()\n\u001b[0;32m   1469\u001b[0m \u001b[38;5;28;01mwith\u001b[39;00m config_context(\n\u001b[0;32m   1470\u001b[0m     skip_parameter_validation\u001b[38;5;241m=\u001b[39m(\n\u001b[0;32m   1471\u001b[0m         prefer_skip_nested_validation \u001b[38;5;129;01mor\u001b[39;00m global_skip_validation\n\u001b[0;32m   1472\u001b[0m     )\n\u001b[0;32m   1473\u001b[0m ):\n\u001b[1;32m-> 1474\u001b[0m     \u001b[38;5;28;01mreturn\u001b[39;00m \u001b[43mfit_method\u001b[49m\u001b[43m(\u001b[49m\u001b[43mestimator\u001b[49m\u001b[43m,\u001b[49m\u001b[43m \u001b[49m\u001b[38;5;241;43m*\u001b[39;49m\u001b[43margs\u001b[49m\u001b[43m,\u001b[49m\u001b[43m \u001b[49m\u001b[38;5;241;43m*\u001b[39;49m\u001b[38;5;241;43m*\u001b[39;49m\u001b[43mkwargs\u001b[49m\u001b[43m)\u001b[49m\n",
      "File \u001b[1;32mD:\\code\\Anaconda\\Email Spam Classifier\\EmailClassifier\\Lib\\site-packages\\sklearn\\naive_bayes.py:263\u001b[0m, in \u001b[0;36mGaussianNB.fit\u001b[1;34m(self, X, y, sample_weight)\u001b[0m\n\u001b[0;32m    240\u001b[0m \u001b[38;5;250m\u001b[39m\u001b[38;5;124;03m\"\"\"Fit Gaussian Naive Bayes according to X, y.\u001b[39;00m\n\u001b[0;32m    241\u001b[0m \n\u001b[0;32m    242\u001b[0m \u001b[38;5;124;03mParameters\u001b[39;00m\n\u001b[1;32m   (...)\u001b[0m\n\u001b[0;32m    260\u001b[0m \u001b[38;5;124;03m    Returns the instance itself.\u001b[39;00m\n\u001b[0;32m    261\u001b[0m \u001b[38;5;124;03m\"\"\"\u001b[39;00m\n\u001b[0;32m    262\u001b[0m y \u001b[38;5;241m=\u001b[39m \u001b[38;5;28mself\u001b[39m\u001b[38;5;241m.\u001b[39m_validate_data(y\u001b[38;5;241m=\u001b[39my)\n\u001b[1;32m--> 263\u001b[0m \u001b[38;5;28;01mreturn\u001b[39;00m \u001b[38;5;28;43mself\u001b[39;49m\u001b[38;5;241;43m.\u001b[39;49m\u001b[43m_partial_fit\u001b[49m\u001b[43m(\u001b[49m\n\u001b[0;32m    264\u001b[0m \u001b[43m    \u001b[49m\u001b[43mX\u001b[49m\u001b[43m,\u001b[49m\u001b[43m \u001b[49m\u001b[43my\u001b[49m\u001b[43m,\u001b[49m\u001b[43m \u001b[49m\u001b[43mnp\u001b[49m\u001b[38;5;241;43m.\u001b[39;49m\u001b[43munique\u001b[49m\u001b[43m(\u001b[49m\u001b[43my\u001b[49m\u001b[43m)\u001b[49m\u001b[43m,\u001b[49m\u001b[43m \u001b[49m\u001b[43m_refit\u001b[49m\u001b[38;5;241;43m=\u001b[39;49m\u001b[38;5;28;43;01mTrue\u001b[39;49;00m\u001b[43m,\u001b[49m\u001b[43m \u001b[49m\u001b[43msample_weight\u001b[49m\u001b[38;5;241;43m=\u001b[39;49m\u001b[43msample_weight\u001b[49m\n\u001b[0;32m    265\u001b[0m \u001b[43m\u001b[49m\u001b[43m)\u001b[49m\n",
      "File \u001b[1;32mD:\\code\\Anaconda\\Email Spam Classifier\\EmailClassifier\\Lib\\site-packages\\sklearn\\naive_bayes.py:489\u001b[0m, in \u001b[0;36mGaussianNB._partial_fit\u001b[1;34m(self, X, y, classes, _refit, sample_weight)\u001b[0m\n\u001b[0;32m    486\u001b[0m     sw_i \u001b[38;5;241m=\u001b[39m \u001b[38;5;28;01mNone\u001b[39;00m\n\u001b[0;32m    487\u001b[0m     N_i \u001b[38;5;241m=\u001b[39m X_i\u001b[38;5;241m.\u001b[39mshape[\u001b[38;5;241m0\u001b[39m]\n\u001b[1;32m--> 489\u001b[0m new_theta, new_sigma \u001b[38;5;241m=\u001b[39m \u001b[38;5;28;43mself\u001b[39;49m\u001b[38;5;241;43m.\u001b[39;49m\u001b[43m_update_mean_variance\u001b[49m\u001b[43m(\u001b[49m\n\u001b[0;32m    490\u001b[0m \u001b[43m    \u001b[49m\u001b[38;5;28;43mself\u001b[39;49m\u001b[38;5;241;43m.\u001b[39;49m\u001b[43mclass_count_\u001b[49m\u001b[43m[\u001b[49m\u001b[43mi\u001b[49m\u001b[43m]\u001b[49m\u001b[43m,\u001b[49m\u001b[43m \u001b[49m\u001b[38;5;28;43mself\u001b[39;49m\u001b[38;5;241;43m.\u001b[39;49m\u001b[43mtheta_\u001b[49m\u001b[43m[\u001b[49m\u001b[43mi\u001b[49m\u001b[43m,\u001b[49m\u001b[43m \u001b[49m\u001b[43m:\u001b[49m\u001b[43m]\u001b[49m\u001b[43m,\u001b[49m\u001b[43m \u001b[49m\u001b[38;5;28;43mself\u001b[39;49m\u001b[38;5;241;43m.\u001b[39;49m\u001b[43mvar_\u001b[49m\u001b[43m[\u001b[49m\u001b[43mi\u001b[49m\u001b[43m,\u001b[49m\u001b[43m \u001b[49m\u001b[43m:\u001b[49m\u001b[43m]\u001b[49m\u001b[43m,\u001b[49m\u001b[43m \u001b[49m\u001b[43mX_i\u001b[49m\u001b[43m,\u001b[49m\u001b[43m \u001b[49m\u001b[43msw_i\u001b[49m\n\u001b[0;32m    491\u001b[0m \u001b[43m\u001b[49m\u001b[43m)\u001b[49m\n\u001b[0;32m    493\u001b[0m \u001b[38;5;28mself\u001b[39m\u001b[38;5;241m.\u001b[39mtheta_[i, :] \u001b[38;5;241m=\u001b[39m new_theta\n\u001b[0;32m    494\u001b[0m \u001b[38;5;28mself\u001b[39m\u001b[38;5;241m.\u001b[39mvar_[i, :] \u001b[38;5;241m=\u001b[39m new_sigma\n",
      "File \u001b[1;32mD:\\code\\Anaconda\\Email Spam Classifier\\EmailClassifier\\Lib\\site-packages\\sklearn\\naive_bayes.py:323\u001b[0m, in \u001b[0;36mGaussianNB._update_mean_variance\u001b[1;34m(n_past, mu, var, X, sample_weight)\u001b[0m\n\u001b[0;32m    321\u001b[0m \u001b[38;5;28;01melse\u001b[39;00m:\n\u001b[0;32m    322\u001b[0m     n_new \u001b[38;5;241m=\u001b[39m X\u001b[38;5;241m.\u001b[39mshape[\u001b[38;5;241m0\u001b[39m]\n\u001b[1;32m--> 323\u001b[0m     new_var \u001b[38;5;241m=\u001b[39m \u001b[43mnp\u001b[49m\u001b[38;5;241;43m.\u001b[39;49m\u001b[43mvar\u001b[49m\u001b[43m(\u001b[49m\u001b[43mX\u001b[49m\u001b[43m,\u001b[49m\u001b[43m \u001b[49m\u001b[43maxis\u001b[49m\u001b[38;5;241;43m=\u001b[39;49m\u001b[38;5;241;43m0\u001b[39;49m\u001b[43m)\u001b[49m\n\u001b[0;32m    324\u001b[0m     new_mu \u001b[38;5;241m=\u001b[39m np\u001b[38;5;241m.\u001b[39mmean(X, axis\u001b[38;5;241m=\u001b[39m\u001b[38;5;241m0\u001b[39m)\n\u001b[0;32m    326\u001b[0m \u001b[38;5;28;01mif\u001b[39;00m n_past \u001b[38;5;241m==\u001b[39m \u001b[38;5;241m0\u001b[39m:\n",
      "File \u001b[1;32mD:\\code\\Anaconda\\Email Spam Classifier\\EmailClassifier\\Lib\\site-packages\\numpy\\core\\fromnumeric.py:3787\u001b[0m, in \u001b[0;36mvar\u001b[1;34m(a, axis, dtype, out, ddof, keepdims, where)\u001b[0m\n\u001b[0;32m   3784\u001b[0m     \u001b[38;5;28;01melse\u001b[39;00m:\n\u001b[0;32m   3785\u001b[0m         \u001b[38;5;28;01mreturn\u001b[39;00m var(axis\u001b[38;5;241m=\u001b[39maxis, dtype\u001b[38;5;241m=\u001b[39mdtype, out\u001b[38;5;241m=\u001b[39mout, ddof\u001b[38;5;241m=\u001b[39mddof, \u001b[38;5;241m*\u001b[39m\u001b[38;5;241m*\u001b[39mkwargs)\n\u001b[1;32m-> 3787\u001b[0m \u001b[38;5;28;01mreturn\u001b[39;00m \u001b[43m_methods\u001b[49m\u001b[38;5;241;43m.\u001b[39;49m\u001b[43m_var\u001b[49m\u001b[43m(\u001b[49m\u001b[43ma\u001b[49m\u001b[43m,\u001b[49m\u001b[43m \u001b[49m\u001b[43maxis\u001b[49m\u001b[38;5;241;43m=\u001b[39;49m\u001b[43maxis\u001b[49m\u001b[43m,\u001b[49m\u001b[43m \u001b[49m\u001b[43mdtype\u001b[49m\u001b[38;5;241;43m=\u001b[39;49m\u001b[43mdtype\u001b[49m\u001b[43m,\u001b[49m\u001b[43m \u001b[49m\u001b[43mout\u001b[49m\u001b[38;5;241;43m=\u001b[39;49m\u001b[43mout\u001b[49m\u001b[43m,\u001b[49m\u001b[43m \u001b[49m\u001b[43mddof\u001b[49m\u001b[38;5;241;43m=\u001b[39;49m\u001b[43mddof\u001b[49m\u001b[43m,\u001b[49m\n\u001b[0;32m   3788\u001b[0m \u001b[43m                     \u001b[49m\u001b[38;5;241;43m*\u001b[39;49m\u001b[38;5;241;43m*\u001b[39;49m\u001b[43mkwargs\u001b[49m\u001b[43m)\u001b[49m\n",
      "File \u001b[1;32mD:\\code\\Anaconda\\Email Spam Classifier\\EmailClassifier\\Lib\\site-packages\\numpy\\core\\_methods.py:173\u001b[0m, in \u001b[0;36m_var\u001b[1;34m(a, axis, dtype, out, ddof, keepdims, where)\u001b[0m\n\u001b[0;32m    168\u001b[0m     arrmean \u001b[38;5;241m=\u001b[39m arrmean \u001b[38;5;241m/\u001b[39m rcount\n\u001b[0;32m    170\u001b[0m \u001b[38;5;66;03m# Compute sum of squared deviations from mean\u001b[39;00m\n\u001b[0;32m    171\u001b[0m \u001b[38;5;66;03m# Note that x may not be inexact and that we need it to be an array,\u001b[39;00m\n\u001b[0;32m    172\u001b[0m \u001b[38;5;66;03m# not a scalar.\u001b[39;00m\n\u001b[1;32m--> 173\u001b[0m x \u001b[38;5;241m=\u001b[39m asanyarray(\u001b[43marr\u001b[49m\u001b[43m \u001b[49m\u001b[38;5;241;43m-\u001b[39;49m\u001b[43m \u001b[49m\u001b[43marrmean\u001b[49m)\n\u001b[0;32m    175\u001b[0m \u001b[38;5;28;01mif\u001b[39;00m \u001b[38;5;28missubclass\u001b[39m(arr\u001b[38;5;241m.\u001b[39mdtype\u001b[38;5;241m.\u001b[39mtype, (nt\u001b[38;5;241m.\u001b[39mfloating, nt\u001b[38;5;241m.\u001b[39minteger)):\n\u001b[0;32m    176\u001b[0m     x \u001b[38;5;241m=\u001b[39m um\u001b[38;5;241m.\u001b[39mmultiply(x, x, out\u001b[38;5;241m=\u001b[39mx)\n",
      "\u001b[1;31mMemoryError\u001b[0m: Unable to allocate 1.12 GiB for an array with shape (2799, 53809) and data type float64"
     ]
    }
   ],
   "source": [
    "X_combined_train,X_combined_test,Y_train,Y_test=train_test_split(X_combined,y,test_size=0.2,random_state=42)\n",
    "accuracy_scores=[]\n",
    "precision_scores=[]\n",
    "for name,clf in clfs.items():\n",
    "    current_accuracy,current_precision=train_classifier(clf,X_combined_train,X_combined_test,Y_train,Y_test)\n",
    "    print(\"for \",name)\n",
    "    print(\"Accuracy: \", current_accuracy)\n",
    "    print(\"Precision: \",current_precision)\n",
    "    accuracy_scores.append(current_accuracy)\n",
    "    precision_scores.append(current_precision)\n"
   ]
  },
  {
   "cell_type": "code",
   "execution_count": 232,
   "id": "103c556b-2a65-4387-849f-0076f421f2e2",
   "metadata": {},
   "outputs": [
    {
     "ename": "MemoryError",
     "evalue": "Unable to allocate 1.11 GiB for an array with shape (3994, 37313) and data type int64",
     "output_type": "error",
     "traceback": [
      "\u001b[1;31m---------------------------------------------------------------------------\u001b[0m",
      "\u001b[1;31mMemoryError\u001b[0m                               Traceback (most recent call last)",
      "Cell \u001b[1;32mIn[232], line 1\u001b[0m\n\u001b[1;32m----> 1\u001b[0m X_train, X_test,Y_train,Y_test\u001b[38;5;241m=\u001b[39m \u001b[43mtrain_test_split\u001b[49m\u001b[43m(\u001b[49m\u001b[43mX_text\u001b[49m\u001b[43m,\u001b[49m\u001b[43my\u001b[49m\u001b[43m,\u001b[49m\u001b[43mtest_size\u001b[49m\u001b[38;5;241;43m=\u001b[39;49m\u001b[38;5;241;43m0.2\u001b[39;49m\u001b[43m,\u001b[49m\u001b[43mrandom_state\u001b[49m\u001b[38;5;241;43m=\u001b[39;49m\u001b[38;5;241;43m42\u001b[39;49m\u001b[43m)\u001b[49m\n\u001b[0;32m      2\u001b[0m accuracy_scores\u001b[38;5;241m=\u001b[39m[]\n\u001b[0;32m      3\u001b[0m precision_scores\u001b[38;5;241m=\u001b[39m[]\n",
      "File \u001b[1;32mD:\\code\\Anaconda\\Email Spam Classifier\\EmailClassifier\\Lib\\site-packages\\sklearn\\utils\\_param_validation.py:213\u001b[0m, in \u001b[0;36mvalidate_params.<locals>.decorator.<locals>.wrapper\u001b[1;34m(*args, **kwargs)\u001b[0m\n\u001b[0;32m    207\u001b[0m \u001b[38;5;28;01mtry\u001b[39;00m:\n\u001b[0;32m    208\u001b[0m     \u001b[38;5;28;01mwith\u001b[39;00m config_context(\n\u001b[0;32m    209\u001b[0m         skip_parameter_validation\u001b[38;5;241m=\u001b[39m(\n\u001b[0;32m    210\u001b[0m             prefer_skip_nested_validation \u001b[38;5;129;01mor\u001b[39;00m global_skip_validation\n\u001b[0;32m    211\u001b[0m         )\n\u001b[0;32m    212\u001b[0m     ):\n\u001b[1;32m--> 213\u001b[0m         \u001b[38;5;28;01mreturn\u001b[39;00m \u001b[43mfunc\u001b[49m\u001b[43m(\u001b[49m\u001b[38;5;241;43m*\u001b[39;49m\u001b[43margs\u001b[49m\u001b[43m,\u001b[49m\u001b[43m \u001b[49m\u001b[38;5;241;43m*\u001b[39;49m\u001b[38;5;241;43m*\u001b[39;49m\u001b[43mkwargs\u001b[49m\u001b[43m)\u001b[49m\n\u001b[0;32m    214\u001b[0m \u001b[38;5;28;01mexcept\u001b[39;00m InvalidParameterError \u001b[38;5;28;01mas\u001b[39;00m e:\n\u001b[0;32m    215\u001b[0m     \u001b[38;5;66;03m# When the function is just a wrapper around an estimator, we allow\u001b[39;00m\n\u001b[0;32m    216\u001b[0m     \u001b[38;5;66;03m# the function to delegate validation to the estimator, but we replace\u001b[39;00m\n\u001b[0;32m    217\u001b[0m     \u001b[38;5;66;03m# the name of the estimator by the name of the function in the error\u001b[39;00m\n\u001b[0;32m    218\u001b[0m     \u001b[38;5;66;03m# message to avoid confusion.\u001b[39;00m\n\u001b[0;32m    219\u001b[0m     msg \u001b[38;5;241m=\u001b[39m re\u001b[38;5;241m.\u001b[39msub(\n\u001b[0;32m    220\u001b[0m         \u001b[38;5;124mr\u001b[39m\u001b[38;5;124m\"\u001b[39m\u001b[38;5;124mparameter of \u001b[39m\u001b[38;5;124m\\\u001b[39m\u001b[38;5;124mw+ must be\u001b[39m\u001b[38;5;124m\"\u001b[39m,\n\u001b[0;32m    221\u001b[0m         \u001b[38;5;124mf\u001b[39m\u001b[38;5;124m\"\u001b[39m\u001b[38;5;124mparameter of \u001b[39m\u001b[38;5;132;01m{\u001b[39;00mfunc\u001b[38;5;241m.\u001b[39m\u001b[38;5;18m__qualname__\u001b[39m\u001b[38;5;132;01m}\u001b[39;00m\u001b[38;5;124m must be\u001b[39m\u001b[38;5;124m\"\u001b[39m,\n\u001b[0;32m    222\u001b[0m         \u001b[38;5;28mstr\u001b[39m(e),\n\u001b[0;32m    223\u001b[0m     )\n",
      "File \u001b[1;32mD:\\code\\Anaconda\\Email Spam Classifier\\EmailClassifier\\Lib\\site-packages\\sklearn\\model_selection\\_split.py:2683\u001b[0m, in \u001b[0;36mtrain_test_split\u001b[1;34m(test_size, train_size, random_state, shuffle, stratify, *arrays)\u001b[0m\n\u001b[0;32m   2679\u001b[0m     cv \u001b[38;5;241m=\u001b[39m CVClass(test_size\u001b[38;5;241m=\u001b[39mn_test, train_size\u001b[38;5;241m=\u001b[39mn_train, random_state\u001b[38;5;241m=\u001b[39mrandom_state)\n\u001b[0;32m   2681\u001b[0m     train, test \u001b[38;5;241m=\u001b[39m \u001b[38;5;28mnext\u001b[39m(cv\u001b[38;5;241m.\u001b[39msplit(X\u001b[38;5;241m=\u001b[39marrays[\u001b[38;5;241m0\u001b[39m], y\u001b[38;5;241m=\u001b[39mstratify))\n\u001b[1;32m-> 2683\u001b[0m \u001b[38;5;28;01mreturn\u001b[39;00m \u001b[38;5;28mlist\u001b[39m(\n\u001b[0;32m   2684\u001b[0m     chain\u001b[38;5;241m.\u001b[39mfrom_iterable(\n\u001b[0;32m   2685\u001b[0m         (_safe_indexing(a, train), _safe_indexing(a, test)) \u001b[38;5;28;01mfor\u001b[39;00m a \u001b[38;5;129;01min\u001b[39;00m arrays\n\u001b[0;32m   2686\u001b[0m     )\n\u001b[0;32m   2687\u001b[0m )\n",
      "File \u001b[1;32mD:\\code\\Anaconda\\Email Spam Classifier\\EmailClassifier\\Lib\\site-packages\\sklearn\\model_selection\\_split.py:2685\u001b[0m, in \u001b[0;36m<genexpr>\u001b[1;34m(.0)\u001b[0m\n\u001b[0;32m   2679\u001b[0m     cv \u001b[38;5;241m=\u001b[39m CVClass(test_size\u001b[38;5;241m=\u001b[39mn_test, train_size\u001b[38;5;241m=\u001b[39mn_train, random_state\u001b[38;5;241m=\u001b[39mrandom_state)\n\u001b[0;32m   2681\u001b[0m     train, test \u001b[38;5;241m=\u001b[39m \u001b[38;5;28mnext\u001b[39m(cv\u001b[38;5;241m.\u001b[39msplit(X\u001b[38;5;241m=\u001b[39marrays[\u001b[38;5;241m0\u001b[39m], y\u001b[38;5;241m=\u001b[39mstratify))\n\u001b[0;32m   2683\u001b[0m \u001b[38;5;28;01mreturn\u001b[39;00m \u001b[38;5;28mlist\u001b[39m(\n\u001b[0;32m   2684\u001b[0m     chain\u001b[38;5;241m.\u001b[39mfrom_iterable(\n\u001b[1;32m-> 2685\u001b[0m         (\u001b[43m_safe_indexing\u001b[49m\u001b[43m(\u001b[49m\u001b[43ma\u001b[49m\u001b[43m,\u001b[49m\u001b[43m \u001b[49m\u001b[43mtrain\u001b[49m\u001b[43m)\u001b[49m, _safe_indexing(a, test)) \u001b[38;5;28;01mfor\u001b[39;00m a \u001b[38;5;129;01min\u001b[39;00m arrays\n\u001b[0;32m   2686\u001b[0m     )\n\u001b[0;32m   2687\u001b[0m )\n",
      "File \u001b[1;32mD:\\code\\Anaconda\\Email Spam Classifier\\EmailClassifier\\Lib\\site-packages\\sklearn\\utils\\__init__.py:411\u001b[0m, in \u001b[0;36m_safe_indexing\u001b[1;34m(X, indices, axis)\u001b[0m\n\u001b[0;32m    409\u001b[0m     \u001b[38;5;28;01mreturn\u001b[39;00m _polars_indexing(X, indices, indices_dtype, axis\u001b[38;5;241m=\u001b[39maxis)\n\u001b[0;32m    410\u001b[0m \u001b[38;5;28;01melif\u001b[39;00m \u001b[38;5;28mhasattr\u001b[39m(X, \u001b[38;5;124m\"\u001b[39m\u001b[38;5;124mshape\u001b[39m\u001b[38;5;124m\"\u001b[39m):\n\u001b[1;32m--> 411\u001b[0m     \u001b[38;5;28;01mreturn\u001b[39;00m \u001b[43m_array_indexing\u001b[49m\u001b[43m(\u001b[49m\u001b[43mX\u001b[49m\u001b[43m,\u001b[49m\u001b[43m \u001b[49m\u001b[43mindices\u001b[49m\u001b[43m,\u001b[49m\u001b[43m \u001b[49m\u001b[43mindices_dtype\u001b[49m\u001b[43m,\u001b[49m\u001b[43m \u001b[49m\u001b[43maxis\u001b[49m\u001b[38;5;241;43m=\u001b[39;49m\u001b[43maxis\u001b[49m\u001b[43m)\u001b[49m\n\u001b[0;32m    412\u001b[0m \u001b[38;5;28;01melse\u001b[39;00m:\n\u001b[0;32m    413\u001b[0m     \u001b[38;5;28;01mreturn\u001b[39;00m _list_indexing(X, indices, indices_dtype)\n",
      "File \u001b[1;32mD:\\code\\Anaconda\\Email Spam Classifier\\EmailClassifier\\Lib\\site-packages\\sklearn\\utils\\__init__.py:208\u001b[0m, in \u001b[0;36m_array_indexing\u001b[1;34m(array, key, key_dtype, axis)\u001b[0m\n\u001b[0;32m    206\u001b[0m \u001b[38;5;28;01mif\u001b[39;00m \u001b[38;5;28misinstance\u001b[39m(key, \u001b[38;5;28mtuple\u001b[39m):\n\u001b[0;32m    207\u001b[0m     key \u001b[38;5;241m=\u001b[39m \u001b[38;5;28mlist\u001b[39m(key)\n\u001b[1;32m--> 208\u001b[0m \u001b[38;5;28;01mreturn\u001b[39;00m \u001b[43marray\u001b[49m\u001b[43m[\u001b[49m\u001b[43mkey\u001b[49m\u001b[43m,\u001b[49m\u001b[43m \u001b[49m\u001b[38;5;241;43m.\u001b[39;49m\u001b[38;5;241;43m.\u001b[39;49m\u001b[38;5;241;43m.\u001b[39;49m\u001b[43m]\u001b[49m \u001b[38;5;28;01mif\u001b[39;00m axis \u001b[38;5;241m==\u001b[39m \u001b[38;5;241m0\u001b[39m \u001b[38;5;28;01melse\u001b[39;00m array[:, key]\n",
      "\u001b[1;31mMemoryError\u001b[0m: Unable to allocate 1.11 GiB for an array with shape (3994, 37313) and data type int64"
     ]
    }
   ],
   "source": [
    "X_train, X_test,Y_train,Y_test= train_test_split(X_text,y,test_size=0.2,random_state=42)\n",
    "accuracy_scores=[]\n",
    "precision_scores=[]\n",
    "for name,clf in clfs.items():\n",
    "    current_accuracy,current_precision=train_classifier(clf,X_train,X_test,Y_train,Y_test)\n",
    "    print(\"for \",name)\n",
    "    print(\"Accuracy: \", current_accuracy)\n",
    "    print(\"Precision: \",current_precision)\n",
    "    accuracy_scores.append(current_accuracy)\n",
    "    precision_scores.append(current_precision)"
   ]
  },
  {
   "cell_type": "code",
   "execution_count": null,
   "id": "1560a17f-153b-48ba-b69c-ec94ff329762",
   "metadata": {},
   "outputs": [],
   "source": []
  }
 ],
 "metadata": {
  "kernelspec": {
   "display_name": "Python 3 (ipykernel)",
   "language": "python",
   "name": "python3"
  },
  "language_info": {
   "codemirror_mode": {
    "name": "ipython",
    "version": 3
   },
   "file_extension": ".py",
   "mimetype": "text/x-python",
   "name": "python",
   "nbconvert_exporter": "python",
   "pygments_lexer": "ipython3",
   "version": "3.11.8"
  }
 },
 "nbformat": 4,
 "nbformat_minor": 5
}
