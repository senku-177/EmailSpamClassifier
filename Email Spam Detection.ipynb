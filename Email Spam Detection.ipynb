{
 "cells": [
  {
   "cell_type": "code",
   "execution_count": 44,
   "id": "04ae71c3-3685-4d77-b0c2-21b9cb454f72",
   "metadata": {},
   "outputs": [],
   "source": [
    "import pandas as pd\n",
    "import numpy as np"
   ]
  },
  {
   "cell_type": "code",
   "execution_count": 45,
   "id": "8797f04f-4a62-4a2f-948b-54cf92fa920f",
   "metadata": {},
   "outputs": [],
   "source": [
    "df= pd.read_csv('spam_ham_Dataset.csv')\n"
   ]
  },
  {
   "cell_type": "code",
   "execution_count": 46,
   "id": "fc866ae1-d375-41ae-b194-1ba85d9dbce8",
   "metadata": {},
   "outputs": [
    {
     "name": "stdout",
     "output_type": "stream",
     "text": [
      "<class 'pandas.core.frame.DataFrame'>\n",
      "RangeIndex: 5171 entries, 0 to 5170\n",
      "Data columns (total 4 columns):\n",
      " #   Column      Non-Null Count  Dtype \n",
      "---  ------      --------------  ----- \n",
      " 0   Unnamed: 0  5171 non-null   int64 \n",
      " 1   label       5171 non-null   object\n",
      " 2   text        5171 non-null   object\n",
      " 3   label_num   5171 non-null   int64 \n",
      "dtypes: int64(2), object(2)\n",
      "memory usage: 161.7+ KB\n"
     ]
    }
   ],
   "source": [
    "df.info()"
   ]
  },
  {
   "cell_type": "code",
   "execution_count": 47,
   "id": "549b38d0-d18a-425d-a143-0fa75058a507",
   "metadata": {},
   "outputs": [
    {
     "data": {
      "text/html": [
       "<div>\n",
       "<style scoped>\n",
       "    .dataframe tbody tr th:only-of-type {\n",
       "        vertical-align: middle;\n",
       "    }\n",
       "\n",
       "    .dataframe tbody tr th {\n",
       "        vertical-align: top;\n",
       "    }\n",
       "\n",
       "    .dataframe thead th {\n",
       "        text-align: right;\n",
       "    }\n",
       "</style>\n",
       "<table border=\"1\" class=\"dataframe\">\n",
       "  <thead>\n",
       "    <tr style=\"text-align: right;\">\n",
       "      <th></th>\n",
       "      <th>Unnamed: 0</th>\n",
       "      <th>label</th>\n",
       "      <th>text</th>\n",
       "      <th>label_num</th>\n",
       "    </tr>\n",
       "  </thead>\n",
       "  <tbody>\n",
       "    <tr>\n",
       "      <th>4029</th>\n",
       "      <td>248</td>\n",
       "      <td>ham</td>\n",
       "      <td>Subject: nominations on hpl purchase and sale ...</td>\n",
       "      <td>0</td>\n",
       "    </tr>\n",
       "    <tr>\n",
       "      <th>4523</th>\n",
       "      <td>975</td>\n",
       "      <td>ham</td>\n",
       "      <td>Subject: re : wholesale volumes\\r\\ntexas has a...</td>\n",
       "      <td>0</td>\n",
       "    </tr>\n",
       "    <tr>\n",
       "      <th>4689</th>\n",
       "      <td>2072</td>\n",
       "      <td>ham</td>\n",
       "      <td>Subject: enron / hpl actuals for november 17 -...</td>\n",
       "      <td>0</td>\n",
       "    </tr>\n",
       "    <tr>\n",
       "      <th>2423</th>\n",
       "      <td>4120</td>\n",
       "      <td>spam</td>\n",
       "      <td>Subject: david\\r\\ntriplett , *\\r\\n75 % off for...</td>\n",
       "      <td>1</td>\n",
       "    </tr>\n",
       "    <tr>\n",
       "      <th>122</th>\n",
       "      <td>3361</td>\n",
       "      <td>ham</td>\n",
       "      <td>Subject: re : txu fuel deals imbalances\\r\\ni '...</td>\n",
       "      <td>0</td>\n",
       "    </tr>\n",
       "  </tbody>\n",
       "</table>\n",
       "</div>"
      ],
      "text/plain": [
       "      Unnamed: 0 label                                               text  \\\n",
       "4029         248   ham  Subject: nominations on hpl purchase and sale ...   \n",
       "4523         975   ham  Subject: re : wholesale volumes\\r\\ntexas has a...   \n",
       "4689        2072   ham  Subject: enron / hpl actuals for november 17 -...   \n",
       "2423        4120  spam  Subject: david\\r\\ntriplett , *\\r\\n75 % off for...   \n",
       "122         3361   ham  Subject: re : txu fuel deals imbalances\\r\\ni '...   \n",
       "\n",
       "      label_num  \n",
       "4029          0  \n",
       "4523          0  \n",
       "4689          0  \n",
       "2423          1  \n",
       "122           0  "
      ]
     },
     "execution_count": 47,
     "metadata": {},
     "output_type": "execute_result"
    }
   ],
   "source": [
    "df.sample(5)"
   ]
  },
  {
   "cell_type": "code",
   "execution_count": 48,
   "id": "3cf72bf1-19ae-406a-b0d7-2887704ce6f9",
   "metadata": {},
   "outputs": [
    {
     "data": {
      "text/plain": [
       "(5171, 4)"
      ]
     },
     "execution_count": 48,
     "metadata": {},
     "output_type": "execute_result"
    }
   ],
   "source": [
    "df.shape"
   ]
  },
  {
   "cell_type": "code",
   "execution_count": 49,
   "id": "11f3a572-ad6b-4a10-ae3b-7e0ec9cfdab9",
   "metadata": {},
   "outputs": [],
   "source": [
    "df.drop(columns=['Unnamed: 0','label'],inplace=True)"
   ]
  },
  {
   "cell_type": "code",
   "execution_count": 50,
   "id": "1162caf4-6a41-4e52-9942-dece836b2078",
   "metadata": {},
   "outputs": [],
   "source": [
    "df.rename(columns={'label_num':'target'},inplace=True)"
   ]
  },
  {
   "cell_type": "code",
   "execution_count": 51,
   "id": "11de9c8f-c58f-4204-be59-4225bf961493",
   "metadata": {},
   "outputs": [
    {
     "data": {
      "text/html": [
       "<div>\n",
       "<style scoped>\n",
       "    .dataframe tbody tr th:only-of-type {\n",
       "        vertical-align: middle;\n",
       "    }\n",
       "\n",
       "    .dataframe tbody tr th {\n",
       "        vertical-align: top;\n",
       "    }\n",
       "\n",
       "    .dataframe thead th {\n",
       "        text-align: right;\n",
       "    }\n",
       "</style>\n",
       "<table border=\"1\" class=\"dataframe\">\n",
       "  <thead>\n",
       "    <tr style=\"text-align: right;\">\n",
       "      <th></th>\n",
       "      <th>text</th>\n",
       "      <th>target</th>\n",
       "    </tr>\n",
       "  </thead>\n",
       "  <tbody>\n",
       "    <tr>\n",
       "      <th>1447</th>\n",
       "      <td>Subject: sitara availability this evening ( 06...</td>\n",
       "      <td>0</td>\n",
       "    </tr>\n",
       "    <tr>\n",
       "      <th>1773</th>\n",
       "      <td>Subject: re : sales to panenergy at exxon clea...</td>\n",
       "      <td>0</td>\n",
       "    </tr>\n",
       "    <tr>\n",
       "      <th>57</th>\n",
       "      <td>Subject: enron / hpl actuals for september 22 ...</td>\n",
       "      <td>0</td>\n",
       "    </tr>\n",
       "    <tr>\n",
       "      <th>3864</th>\n",
       "      <td>Subject: meter 9682\\r\\ngeorge -\\r\\nin this aft...</td>\n",
       "      <td>0</td>\n",
       "    </tr>\n",
       "    <tr>\n",
       "      <th>2668</th>\n",
       "      <td>Subject: perform your best in bed\\r\\ngeneric c...</td>\n",
       "      <td>1</td>\n",
       "    </tr>\n",
       "  </tbody>\n",
       "</table>\n",
       "</div>"
      ],
      "text/plain": [
       "                                                   text  target\n",
       "1447  Subject: sitara availability this evening ( 06...       0\n",
       "1773  Subject: re : sales to panenergy at exxon clea...       0\n",
       "57    Subject: enron / hpl actuals for september 22 ...       0\n",
       "3864  Subject: meter 9682\\r\\ngeorge -\\r\\nin this aft...       0\n",
       "2668  Subject: perform your best in bed\\r\\ngeneric c...       1"
      ]
     },
     "execution_count": 51,
     "metadata": {},
     "output_type": "execute_result"
    }
   ],
   "source": [
    "df.sample(5)"
   ]
  },
  {
   "cell_type": "code",
   "execution_count": 52,
   "id": "868ee0f5-e35b-4f6d-8b87-94a27e74db0f",
   "metadata": {},
   "outputs": [],
   "source": [
    "df[[\"Subject\",\"text\"]] = df[\"text\"].str.split(\"\\r\\n\",n=1,expand=True)"
   ]
  },
  {
   "cell_type": "code",
   "execution_count": 53,
   "id": "e315216e-7c91-4110-921a-c1afb00e6d56",
   "metadata": {},
   "outputs": [],
   "source": [
    "for i in range(df.shape[0]):\n",
    "    text = df.iloc[i][\"text\"]\n",
    "    cleaned_text = \"\"\n",
    "    for char in text:\n",
    "        if char.isalnum() or char == ' ':\n",
    "            cleaned_text += char\n",
    "        else:\n",
    "            cleaned_text+=' '\n",
    "    df.at[i, \"text\"] = cleaned_text\n"
   ]
  },
  {
   "cell_type": "code",
   "execution_count": 54,
   "id": "d422df2a-e47b-4af4-9cb9-6e2395c35a39",
   "metadata": {},
   "outputs": [
    {
     "data": {
      "text/html": [
       "<div>\n",
       "<style scoped>\n",
       "    .dataframe tbody tr th:only-of-type {\n",
       "        vertical-align: middle;\n",
       "    }\n",
       "\n",
       "    .dataframe tbody tr th {\n",
       "        vertical-align: top;\n",
       "    }\n",
       "\n",
       "    .dataframe thead th {\n",
       "        text-align: right;\n",
       "    }\n",
       "</style>\n",
       "<table border=\"1\" class=\"dataframe\">\n",
       "  <thead>\n",
       "    <tr style=\"text-align: right;\">\n",
       "      <th></th>\n",
       "      <th>text</th>\n",
       "      <th>target</th>\n",
       "      <th>Subject</th>\n",
       "    </tr>\n",
       "  </thead>\n",
       "  <tbody>\n",
       "    <tr>\n",
       "      <th>1782</th>\n",
       "      <td>vance    per our conversation   we have two po...</td>\n",
       "      <td>0</td>\n",
       "      <td>Subject: re : meter 984229 - roos common point...</td>\n",
       "    </tr>\n",
       "    <tr>\n",
       "      <th>160</th>\n",
       "      <td>fyi   i can   t tell if all of you were includ...</td>\n",
       "      <td>0</td>\n",
       "      <td>Subject: memo and presentation from brian redmond</td>\n",
       "    </tr>\n",
       "    <tr>\n",
       "      <th>1116</th>\n",
       "      <td>erectlon problems    maintain your hardest ere...</td>\n",
       "      <td>1</td>\n",
       "      <td>Subject: shi : pping is complimentar , y</td>\n",
       "    </tr>\n",
       "    <tr>\n",
       "      <th>1029</th>\n",
       "      <td>gentlemen    i wanted to clarify the length of...</td>\n",
       "      <td>0</td>\n",
       "      <td>Subject: cleburne outage</td>\n",
       "    </tr>\n",
       "    <tr>\n",
       "      <th>3022</th>\n",
       "      <td>hello    vlgr professi 0 nal     1   88 per do...</td>\n",
       "      <td>1</td>\n",
       "      <td>Subject: now this acts quicker and lasts much ...</td>\n",
       "    </tr>\n",
       "  </tbody>\n",
       "</table>\n",
       "</div>"
      ],
      "text/plain": [
       "                                                   text  target  \\\n",
       "1782  vance    per our conversation   we have two po...       0   \n",
       "160   fyi   i can   t tell if all of you were includ...       0   \n",
       "1116  erectlon problems    maintain your hardest ere...       1   \n",
       "1029  gentlemen    i wanted to clarify the length of...       0   \n",
       "3022  hello    vlgr professi 0 nal     1   88 per do...       1   \n",
       "\n",
       "                                                Subject  \n",
       "1782  Subject: re : meter 984229 - roos common point...  \n",
       "160   Subject: memo and presentation from brian redmond  \n",
       "1116           Subject: shi : pping is complimentar , y  \n",
       "1029                           Subject: cleburne outage  \n",
       "3022  Subject: now this acts quicker and lasts much ...  "
      ]
     },
     "execution_count": 54,
     "metadata": {},
     "output_type": "execute_result"
    }
   ],
   "source": [
    "df.sample(5)"
   ]
  },
  {
   "cell_type": "code",
   "execution_count": 55,
   "id": "3604b27b-1cba-4710-9994-c85af76bc502",
   "metadata": {},
   "outputs": [
    {
     "data": {
      "text/plain": [
       "text       0\n",
       "target     0\n",
       "Subject    0\n",
       "dtype: int64"
      ]
     },
     "execution_count": 55,
     "metadata": {},
     "output_type": "execute_result"
    }
   ],
   "source": [
    "df.isnull().sum()"
   ]
  },
  {
   "cell_type": "code",
   "execution_count": 56,
   "id": "30ff274c-83f5-436d-87bb-56ad6655b116",
   "metadata": {},
   "outputs": [
    {
     "data": {
      "text/plain": [
       "178"
      ]
     },
     "execution_count": 56,
     "metadata": {},
     "output_type": "execute_result"
    }
   ],
   "source": [
    "df.duplicated().sum()"
   ]
  },
  {
   "cell_type": "code",
   "execution_count": 57,
   "id": "1252e5bb-2aa1-438f-8fa8-c80fa7ca3949",
   "metadata": {},
   "outputs": [],
   "source": [
    "df= df.drop_duplicates(keep='first')"
   ]
  },
  {
   "cell_type": "code",
   "execution_count": 58,
   "id": "9508605c-f650-4f15-8369-082720b5fdd5",
   "metadata": {},
   "outputs": [
    {
     "data": {
      "text/html": [
       "<div>\n",
       "<style scoped>\n",
       "    .dataframe tbody tr th:only-of-type {\n",
       "        vertical-align: middle;\n",
       "    }\n",
       "\n",
       "    .dataframe tbody tr th {\n",
       "        vertical-align: top;\n",
       "    }\n",
       "\n",
       "    .dataframe thead th {\n",
       "        text-align: right;\n",
       "    }\n",
       "</style>\n",
       "<table border=\"1\" class=\"dataframe\">\n",
       "  <thead>\n",
       "    <tr style=\"text-align: right;\">\n",
       "      <th></th>\n",
       "      <th>text</th>\n",
       "      <th>target</th>\n",
       "      <th>Subject</th>\n",
       "    </tr>\n",
       "  </thead>\n",
       "  <tbody>\n",
       "    <tr>\n",
       "      <th>1085</th>\n",
       "      <td>fo...</td>\n",
       "      <td>0</td>\n",
       "      <td>Subject: re : nom / actual vols for 24 th</td>\n",
       "    </tr>\n",
       "    <tr>\n",
       "      <th>3598</th>\n",
       "      <td>stacey    the new deal   158220   is missing 1...</td>\n",
       "      <td>0</td>\n",
       "      <td>Subject: 1 / 2000 lower colorado river vols</td>\n",
       "    </tr>\n",
       "    <tr>\n",
       "      <th>4766</th>\n",
       "      <td>discount drugs       save 80   every order    ...</td>\n",
       "      <td>1</td>\n",
       "      <td>Subject: rock solid</td>\n",
       "    </tr>\n",
       "    <tr>\n",
       "      <th>3300</th>\n",
       "      <td>we are in the midst of enhancing the operation...</td>\n",
       "      <td>0</td>\n",
       "      <td>Subject: july activity driver survey</td>\n",
       "    </tr>\n",
       "    <tr>\n",
       "      <th>2942</th>\n",
       "      <td>enron methanol nominates the following require...</td>\n",
       "      <td>0</td>\n",
       "      <td>Subject: 02 / 00 natural gas nomination</td>\n",
       "    </tr>\n",
       "  </tbody>\n",
       "</table>\n",
       "</div>"
      ],
      "text/plain": [
       "                                                   text  target  \\\n",
       "1085                                              fo...       0   \n",
       "3598  stacey    the new deal   158220   is missing 1...       0   \n",
       "4766  discount drugs       save 80   every order    ...       1   \n",
       "3300  we are in the midst of enhancing the operation...       0   \n",
       "2942  enron methanol nominates the following require...       0   \n",
       "\n",
       "                                          Subject  \n",
       "1085    Subject: re : nom / actual vols for 24 th  \n",
       "3598  Subject: 1 / 2000 lower colorado river vols  \n",
       "4766                          Subject: rock solid  \n",
       "3300         Subject: july activity driver survey  \n",
       "2942      Subject: 02 / 00 natural gas nomination  "
      ]
     },
     "execution_count": 58,
     "metadata": {},
     "output_type": "execute_result"
    }
   ],
   "source": [
    "df.sample(5)"
   ]
  },
  {
   "cell_type": "code",
   "execution_count": 59,
   "id": "0d9c4aba-716d-4339-b0bf-3e8fec335024",
   "metadata": {},
   "outputs": [
    {
     "data": {
      "text/plain": [
       "target\n",
       "0    3531\n",
       "1    1462\n",
       "Name: count, dtype: int64"
      ]
     },
     "execution_count": 59,
     "metadata": {},
     "output_type": "execute_result"
    }
   ],
   "source": [
    "df['target'].value_counts()"
   ]
  },
  {
   "cell_type": "code",
   "execution_count": 60,
   "id": "2fda330f-b997-47dc-bc94-6d1aacd1cea0",
   "metadata": {},
   "outputs": [
    {
     "name": "stderr",
     "output_type": "stream",
     "text": [
      "[nltk_data] Downloading package punkt to\n",
      "[nltk_data]     C:\\Users\\goyal\\AppData\\Roaming\\nltk_data...\n",
      "[nltk_data]   Package punkt is already up-to-date!\n",
      "[nltk_data] Downloading package stopwords to\n",
      "[nltk_data]     C:\\Users\\goyal\\AppData\\Roaming\\nltk_data...\n",
      "[nltk_data]   Package stopwords is already up-to-date!\n"
     ]
    },
    {
     "data": {
      "text/plain": [
       "True"
      ]
     },
     "execution_count": 60,
     "metadata": {},
     "output_type": "execute_result"
    }
   ],
   "source": [
    "import nltk\n",
    "nltk.download('punkt')\n",
    "nltk.download('stopwords')"
   ]
  },
  {
   "cell_type": "code",
   "execution_count": 61,
   "id": "14c29c8d-6bbc-4f7f-9a1f-38012b361c97",
   "metadata": {},
   "outputs": [],
   "source": [
    "import string\n",
    "from nltk.corpus import stopwords\n",
    "from nltk.stem.porter import PorterStemmer\n",
    "ps=PorterStemmer()"
   ]
  },
  {
   "cell_type": "code",
   "execution_count": 62,
   "id": "15ea35d9-3ecf-42c9-8ea8-ef9e65d6d96b",
   "metadata": {},
   "outputs": [],
   "source": [
    "def textProcess(text):\n",
    "    text=text.lower()\n",
    "    text= nltk.word_tokenize(text)\n",
    "    y=[]\n",
    "    for i in text:\n",
    "        if i.isalpha():\n",
    "            y.append(i)\n",
    "    text=y[:]\n",
    "    y.clear()\n",
    "    for i in text:\n",
    "        if i not in stopwords.words('english') and i not in string.punctuation:\n",
    "            y.append(ps.stem(i))\n",
    "            \n",
    "    text=y[:]\n",
    "    return \" \".join(text)"
   ]
  },
  {
   "cell_type": "code",
   "execution_count": 63,
   "id": "e8f07bdd-c3b9-4436-966f-42e98519a2a0",
   "metadata": {},
   "outputs": [
    {
     "data": {
      "text/plain": [
       "'like present ml'"
      ]
     },
     "execution_count": 63,
     "metadata": {},
     "output_type": "execute_result"
    }
   ],
   "source": [
    "textProcess(\"Did you liked my presentation on ML?\")"
   ]
  },
  {
   "cell_type": "code",
   "execution_count": 64,
   "id": "2f1f3e57-1a6f-41a1-a65c-9e8bb0fd8610",
   "metadata": {},
   "outputs": [],
   "source": [
    "df['transformed_text']=df['text'].apply(textProcess)"
   ]
  },
  {
   "cell_type": "code",
   "execution_count": 65,
   "id": "6d70400b-c464-48b0-831f-1f1e29c48c52",
   "metadata": {},
   "outputs": [],
   "source": [
    "def subjectTransform(subject):\n",
    "      return subject.replace(\"Subject:\", \"\", 1).lstrip()"
   ]
  },
  {
   "cell_type": "code",
   "execution_count": 66,
   "id": "fd0367c3-e9cd-47f4-a6f5-2d52e796c0f1",
   "metadata": {},
   "outputs": [],
   "source": [
    "df[\"Subject\"]=df['Subject'].apply(subjectTransform)\n",
    "df[\"Subject\"]=df['Subject'].apply(textProcess)"
   ]
  },
  {
   "cell_type": "code",
   "execution_count": 67,
   "id": "f87f80f9-5887-466f-9677-6c9fa920ff07",
   "metadata": {},
   "outputs": [
    {
     "data": {
      "text/html": [
       "<div>\n",
       "<style scoped>\n",
       "    .dataframe tbody tr th:only-of-type {\n",
       "        vertical-align: middle;\n",
       "    }\n",
       "\n",
       "    .dataframe tbody tr th {\n",
       "        vertical-align: top;\n",
       "    }\n",
       "\n",
       "    .dataframe thead th {\n",
       "        text-align: right;\n",
       "    }\n",
       "</style>\n",
       "<table border=\"1\" class=\"dataframe\">\n",
       "  <thead>\n",
       "    <tr style=\"text-align: right;\">\n",
       "      <th></th>\n",
       "      <th>text</th>\n",
       "      <th>target</th>\n",
       "      <th>Subject</th>\n",
       "      <th>transformed_text</th>\n",
       "    </tr>\n",
       "  </thead>\n",
       "  <tbody>\n",
       "    <tr>\n",
       "      <th>4530</th>\n",
       "      <td>teco tap 10   000   enron   65   000   iferc  ...</td>\n",
       "      <td>0</td>\n",
       "      <td>enron hpl actual juli</td>\n",
       "      <td>teco tap enron iferc ls hpl lsk ic enron</td>\n",
       "    </tr>\n",
       "    <tr>\n",
       "      <th>2073</th>\n",
       "      <td>see attached file   hplno 203   xls      hpl...</td>\n",
       "      <td>0</td>\n",
       "      <td>hpl nom februari</td>\n",
       "      <td>see attach file hplno xl hplno xl</td>\n",
       "    </tr>\n",
       "    <tr>\n",
       "      <th>1178</th>\n",
       "      <td>hi there    november is here and it is time to...</td>\n",
       "      <td>0</td>\n",
       "      <td>novemb real estat news updat</td>\n",
       "      <td>hi novemb time give thank year draw close much...</td>\n",
       "    </tr>\n",
       "    <tr>\n",
       "      <th>333</th>\n",
       "      <td>physiotherapy agnes        amend   armpit    i...</td>\n",
       "      <td>1</td>\n",
       "      <td>vietnam</td>\n",
       "      <td>physiotherapi agn amend armpit increas e x f u...</td>\n",
       "    </tr>\n",
       "    <tr>\n",
       "      <th>4353</th>\n",
       "      <td>mary    please be careful of eol deals   i got...</td>\n",
       "      <td>0</td>\n",
       "      <td>deal eol waha</td>\n",
       "      <td>mari pleas care eol deal got call friday even ...</td>\n",
       "    </tr>\n",
       "  </tbody>\n",
       "</table>\n",
       "</div>"
      ],
      "text/plain": [
       "                                                   text  target  \\\n",
       "4530  teco tap 10   000   enron   65   000   iferc  ...       0   \n",
       "2073    see attached file   hplno 203   xls      hpl...       0   \n",
       "1178  hi there    november is here and it is time to...       0   \n",
       "333   physiotherapy agnes        amend   armpit    i...       1   \n",
       "4353  mary    please be careful of eol deals   i got...       0   \n",
       "\n",
       "                           Subject  \\\n",
       "4530         enron hpl actual juli   \n",
       "2073              hpl nom februari   \n",
       "1178  novemb real estat news updat   \n",
       "333                        vietnam   \n",
       "4353                 deal eol waha   \n",
       "\n",
       "                                       transformed_text  \n",
       "4530           teco tap enron iferc ls hpl lsk ic enron  \n",
       "2073                  see attach file hplno xl hplno xl  \n",
       "1178  hi novemb time give thank year draw close much...  \n",
       "333   physiotherapi agn amend armpit increas e x f u...  \n",
       "4353  mari pleas care eol deal got call friday even ...  "
      ]
     },
     "execution_count": 67,
     "metadata": {},
     "output_type": "execute_result"
    }
   ],
   "source": [
    "df.sample(5)"
   ]
  },
  {
   "cell_type": "code",
   "execution_count": 68,
   "id": "a96e99d7-435e-4163-9cc4-057abb93a8f4",
   "metadata": {},
   "outputs": [],
   "source": [
    "from collections import Counter"
   ]
  },
  {
   "cell_type": "code",
   "execution_count": 26,
   "id": "c226da16-d265-44fc-8b86-59398c39ed37",
   "metadata": {},
   "outputs": [],
   "source": [
    "spam_corpus=[]\n",
    "for msg in df[df['target']==1]['transformed_text'].tolist():\n",
    "    for word in msg.split():\n",
    "        spam_corpus.append(word)\n",
    "\n",
    "spam_subject_corpus=[]\n",
    "for subject in df[df['target']==1]['Subject'].tolist():\n",
    "    for word in subject.split():\n",
    "        spam_subject_corpus.append(word)"
   ]
  },
  {
   "cell_type": "code",
   "execution_count": 27,
   "id": "e1fb9b1a-1278-4182-818b-d92dc8b00d8c",
   "metadata": {},
   "outputs": [
    {
     "data": {
      "image/png": "[encoded data removed]",
      "text/plain": [
       "<Figure size 640x480 with 1 Axes>"
      ]
     },
     "metadata": {},
     "output_type": "display_data"
    },
    {
     "data": {
      "image/png": "[encoded data removed]",
      "text/plain": [
       "<Figure size 640x480 with 1 Axes>"
      ]
     },
     "metadata": {},
     "output_type": "display_data"
    }
   ],
   "source": [
    "import seaborn as sns\n",
    "import matplotlib.pyplot as plt\n",
    "sns.barplot(x=pd.DataFrame(Counter(spam_subject_corpus).most_common(40))[0],y=pd.DataFrame(Counter(spam_subject_corpus).most_common(40))[1])\n",
    "plt.xticks(rotation='vertical')\n",
    "plt.title('Subject')\n",
    "plt.show()\n",
    "\n",
    "sns.barplot(x=pd.DataFrame(Counter(spam_corpus).most_common(40))[0],y=pd.DataFrame(Counter(spam_corpus).most_common(40))[1])\n",
    "plt.xticks(rotation='vertical')\n",
    "plt.title('spam_text')\n",
    "plt.show()\n"
   ]
  },
  {
   "cell_type": "markdown",
   "id": "a85f87e1-3568-4764-9c60-9bc3d198e3d4",
   "metadata": {},
   "source": [
    "Model Building Naive Bayes"
   ]
  },
  {
   "cell_type": "code",
   "execution_count": 69,
   "id": "d708b395-316a-4aa2-89a0-7306ccd14f6c",
   "metadata": {},
   "outputs": [],
   "source": [
    "from sklearn.model_selection import train_test_split\n",
    "from sklearn.feature_extraction.text import CountVectorizer\n",
    "from sklearn.naive_bayes import GaussianNB, MultinomialNB,BernoulliNB\n",
    "from sklearn.metrics import accuracy_score, precision_score, confusion_matrix"
   ]
  },
  {
   "cell_type": "code",
   "execution_count": 70,
   "id": "b6541e43-3e1e-42d4-83c1-467c37494bd0",
   "metadata": {},
   "outputs": [],
   "source": [
    "cv=CountVectorizer()\n",
    "y= df['target'].values\n",
    "X_text= cv.fit_transform(df['transformed_text']).toarray()\n",
    "X_subject= cv.fit_transform(df['Subject']).toarray()"
   ]
  },
  {
   "cell_type": "code",
   "execution_count": 30,
   "id": "b818770a-232c-4cfa-a203-97dd85a5a2cf",
   "metadata": {},
   "outputs": [],
   "source": [
    "X_train, X_test,Y_train,Y_test= train_test_split(X_text,y,test_size=0.2,random_state=42)\n"
   ]
  },
  {
   "cell_type": "code",
   "execution_count": 71,
   "id": "b9e25864-a644-4d52-bf01-8d93b3b14fbe",
   "metadata": {},
   "outputs": [],
   "source": [
    "gnb= GaussianNB()\n",
    "bnb= BernoulliNB()\n",
    "mnb= MultinomialNB()\n"
   ]
  },
  {
   "cell_type": "code",
   "execution_count": 140,
   "id": "3ee7fc5b-ca3a-4199-92b6-13e253fffeb6",
   "metadata": {},
   "outputs": [
    {
     "name": "stdout",
     "output_type": "stream",
     "text": [
      "0.9469469469469469\n",
      "[[713  19]\n",
      " [ 34 233]]\n",
      "0.9246031746031746\n"
     ]
    }
   ],
   "source": [
    "gnb.fit(X_train,Y_train)\n",
    "y_preds1=gnb.predict(X_test)\n",
    "print(accuracy_score(Y_test,y_preds1))\n",
    "print(confusion_matrix(Y_test,y_preds1))\n",
    "print(precision_score(Y_test,y_preds1))"
   ]
  },
  {
   "cell_type": "code",
   "execution_count": 146,
   "id": "e0805084-35dc-4f55-a2c8-eadb5a01c1ed",
   "metadata": {},
   "outputs": [
    {
     "name": "stdout",
     "output_type": "stream",
     "text": [
      "0.8648648648648649\n",
      "[[716  16]\n",
      " [119 148]]\n",
      "0.9024390243902439\n"
     ]
    }
   ],
   "source": [
    "bnb.fit(X_train,Y_train)\n",
    "y_preds2=bnb.predict(X_test)\n",
    "print(accuracy_score(Y_test,y_preds2))\n",
    "print(confusion_matrix(Y_test,y_preds2))\n",
    "print(precision_score(Y_test,y_preds2))"
   ]
  },
  {
   "cell_type": "code",
   "execution_count": 147,
   "id": "4ab426c2-a577-4ee2-a5bd-231c2ce29253",
   "metadata": {},
   "outputs": [
    {
     "name": "stdout",
     "output_type": "stream",
     "text": [
      "0.9669669669669669\n",
      "[[719  13]\n",
      " [ 20 247]]\n",
      "0.95\n"
     ]
    }
   ],
   "source": [
    "mnb.fit(X_train,Y_train)\n",
    "y_preds3=mnb.predict(X_test)\n",
    "print(accuracy_score(Y_test,y_preds3))\n",
    "print(confusion_matrix(Y_test,y_preds3))\n",
    "print(precision_score(Y_test,y_preds3))"
   ]
  },
  {
   "cell_type": "code",
   "execution_count": 148,
   "id": "b370cd5e-efed-4573-abe5-051d57f9df6d",
   "metadata": {},
   "outputs": [],
   "source": [
    "X_sub_train, X_sub_test, Y_train, Y_test= train_test_split(X_subject,y,test_size=0.2,random_state=42)"
   ]
  },
  {
   "cell_type": "code",
   "execution_count": 149,
   "id": "6f0fbb08-0a78-4bed-90f2-e90d2aa48c53",
   "metadata": {},
   "outputs": [
    {
     "name": "stdout",
     "output_type": "stream",
     "text": [
      "0.9049049049049049\n",
      "[[702  30]\n",
      " [ 65 202]]\n",
      "0.8706896551724138\n"
     ]
    }
   ],
   "source": [
    "mnb.fit(X_sub_train,Y_train)\n",
    "y_preds4=mnb.predict(X_sub_test)\n",
    "print(accuracy_score(Y_test,y_preds4))\n",
    "print(confusion_matrix(Y_test,y_preds4))\n",
    "print(precision_score(Y_test,y_preds4))"
   ]
  },
  {
   "cell_type": "code",
   "execution_count": 152,
   "id": "4fe9deb9-aedc-4f3c-93db-1608e6a954d1",
   "metadata": {},
   "outputs": [
    {
     "name": "stdout",
     "output_type": "stream",
     "text": [
      "0.8888888888888888\n",
      "[[718  14]\n",
      " [ 97 170]]\n",
      "0.9239130434782609\n"
     ]
    }
   ],
   "source": [
    "gnb.fit(X_sub_train,Y_train)\n",
    "y_preds4=gnb.predict(X_sub_test)\n",
    "print(accuracy_score(Y_test,y_preds4))\n",
    "print(confusion_matrix(Y_test,y_preds4))\n",
    "print(precision_score(Y_test,y_preds4))"
   ]
  },
  {
   "cell_type": "code",
   "execution_count": null,
   "id": "1c56b169-65cc-453d-aedf-a1a8879e22a0",
   "metadata": {},
   "outputs": [],
   "source": []
  },
  {
   "cell_type": "code",
   "execution_count": 72,
   "id": "1ac227c2-ffd6-49f6-ba80-a707dad801a1",
   "metadata": {},
   "outputs": [],
   "source": [
    "df['combined']=df['Subject']+df['text']"
   ]
  },
  {
   "cell_type": "code",
   "execution_count": 73,
   "id": "6350394f-988d-4de4-a46e-3d62944cbeaa",
   "metadata": {},
   "outputs": [
    {
     "data": {
      "text/html": [
       "<div>\n",
       "<style scoped>\n",
       "    .dataframe tbody tr th:only-of-type {\n",
       "        vertical-align: middle;\n",
       "    }\n",
       "\n",
       "    .dataframe tbody tr th {\n",
       "        vertical-align: top;\n",
       "    }\n",
       "\n",
       "    .dataframe thead th {\n",
       "        text-align: right;\n",
       "    }\n",
       "</style>\n",
       "<table border=\"1\" class=\"dataframe\">\n",
       "  <thead>\n",
       "    <tr style=\"text-align: right;\">\n",
       "      <th></th>\n",
       "      <th>text</th>\n",
       "      <th>target</th>\n",
       "      <th>Subject</th>\n",
       "      <th>transformed_text</th>\n",
       "      <th>combined</th>\n",
       "    </tr>\n",
       "  </thead>\n",
       "  <tbody>\n",
       "    <tr>\n",
       "      <th>5060</th>\n",
       "      <td>if you   re tired of traffic lights   speed ca...</td>\n",
       "      <td>1</td>\n",
       "      <td>uniqu stock stuffer</td>\n",
       "      <td>tire traffic light speed camera intrus privaci...</td>\n",
       "      <td>uniqu stock stufferif you   re tired of traffi...</td>\n",
       "    </tr>\n",
       "    <tr>\n",
       "      <th>1413</th>\n",
       "      <td>it   shere  it   sjustforfun  teotihuacan  sun...</td>\n",
       "      <td>1</td>\n",
       "      <td>thel timebestsoftwarefory</td>\n",
       "      <td>shere sjustforfun teotihuacan sunblind sweat w...</td>\n",
       "      <td>thel timebestsoftwareforyit   shere  it   sjus...</td>\n",
       "    </tr>\n",
       "    <tr>\n",
       "      <th>2467</th>\n",
       "      <td>daren   there is flow at meter 1386 for jan 1 ...</td>\n",
       "      <td>0</td>\n",
       "      <td>jan</td>\n",
       "      <td>daren flow meter jan averag flow day last deal...</td>\n",
       "      <td>jandaren   there is flow at meter 1386 for jan...</td>\n",
       "    </tr>\n",
       "    <tr>\n",
       "      <th>38</th>\n",
       "      <td>fo...</td>\n",
       "      <td>0</td>\n",
       "      <td>th nom copano</td>\n",
       "      <td>forward ami chokshi corp enron troy benoit rel...</td>\n",
       "      <td>th nom copano                                 ...</td>\n",
       "    </tr>\n",
       "    <tr>\n",
       "      <th>2702</th>\n",
       "      <td>endgame biomedicine protestantizes parted  twi...</td>\n",
       "      <td>1</td>\n",
       "      <td>new softwar pyrrhic taxonomi</td>\n",
       "      <td>endgam biomedicin protestant part twirl mohamm...</td>\n",
       "      <td>new softwar pyrrhic taxonomiendgame biomedicin...</td>\n",
       "    </tr>\n",
       "  </tbody>\n",
       "</table>\n",
       "</div>"
      ],
      "text/plain": [
       "                                                   text  target  \\\n",
       "5060  if you   re tired of traffic lights   speed ca...       1   \n",
       "1413  it   shere  it   sjustforfun  teotihuacan  sun...       1   \n",
       "2467  daren   there is flow at meter 1386 for jan 1 ...       0   \n",
       "38                                                fo...       0   \n",
       "2702  endgame biomedicine protestantizes parted  twi...       1   \n",
       "\n",
       "                           Subject  \\\n",
       "5060           uniqu stock stuffer   \n",
       "1413     thel timebestsoftwarefory   \n",
       "2467                           jan   \n",
       "38                   th nom copano   \n",
       "2702  new softwar pyrrhic taxonomi   \n",
       "\n",
       "                                       transformed_text  \\\n",
       "5060  tire traffic light speed camera intrus privaci...   \n",
       "1413  shere sjustforfun teotihuacan sunblind sweat w...   \n",
       "2467  daren flow meter jan averag flow day last deal...   \n",
       "38    forward ami chokshi corp enron troy benoit rel...   \n",
       "2702  endgam biomedicin protestant part twirl mohamm...   \n",
       "\n",
       "                                               combined  \n",
       "5060  uniqu stock stufferif you   re tired of traffi...  \n",
       "1413  thel timebestsoftwareforyit   shere  it   sjus...  \n",
       "2467  jandaren   there is flow at meter 1386 for jan...  \n",
       "38    th nom copano                                 ...  \n",
       "2702  new softwar pyrrhic taxonomiendgame biomedicin...  "
      ]
     },
     "execution_count": 73,
     "metadata": {},
     "output_type": "execute_result"
    }
   ],
   "source": [
    "df.sample(5)"
   ]
  },
  {
   "cell_type": "code",
   "execution_count": 74,
   "id": "e199adc7-1919-499d-996a-903106fb234e",
   "metadata": {},
   "outputs": [],
   "source": [
    "X_combined= cv.fit_transform(df['combined']).toarray()"
   ]
  },
  {
   "cell_type": "code",
   "execution_count": 75,
   "id": "894b9db3-262f-4646-95a4-737fdcae425a",
   "metadata": {},
   "outputs": [],
   "source": [
    "X_combined_train,X_combined_test,Y_train,Y_test=train_test_split(X_combined,y,test_size=0.2,random_state=42)"
   ]
  },
  {
   "cell_type": "code",
   "execution_count": 76,
   "id": "9f4e0b76-7582-4b69-8ea6-4565bf607666",
   "metadata": {},
   "outputs": [],
   "source": [
    "gnb1=GaussianNB()\n",
    "mnb=MultinomialNB()"
   ]
  },
  {
   "cell_type": "code",
   "execution_count": 218,
   "id": "f1c8466e-15ee-4429-8e93-fa24e37ed450",
   "metadata": {},
   "outputs": [
    {
     "name": "stdout",
     "output_type": "stream",
     "text": [
      "0.9679679679679679\n",
      "[[720  12]\n",
      " [ 20 247]]\n",
      "0.9536679536679536\n"
     ]
    }
   ],
   "source": [
    "gnb1.fit(X_combined_train,Y_train)\n",
    "y_preds4=gnb1.predict(X_combined_test)\n",
    "print(accuracy_score(Y_test,y_preds4))\n",
    "print(confusion_matrix(Y_test,y_preds4))\n",
    "print(precision_score(Y_test,y_preds4))"
   ]
  },
  {
   "cell_type": "code",
   "execution_count": 77,
   "id": "4a05fa9a-32fd-4b8a-8d08-0a3c3fd20568",
   "metadata": {},
   "outputs": [
    {
     "name": "stdout",
     "output_type": "stream",
     "text": [
      "0.980980980980981\n",
      "[[722  10]\n",
      " [  9 258]]\n",
      "0.9626865671641791\n"
     ]
    }
   ],
   "source": [
    "mnb.fit(X_combined_train,Y_train)\n",
    "y_preds4=mnb.predict(X_combined_test)\n",
    "print(accuracy_score(Y_test,y_preds4))\n",
    "print(confusion_matrix(Y_test,y_preds4))\n",
    "print(precision_score(Y_test,y_preds4))"
   ]
  },
  {
   "cell_type": "code",
   "execution_count": 78,
   "id": "3ead7d85-5521-4e1b-9587-80206b826c5e",
   "metadata": {},
   "outputs": [],
   "source": [
    "from sklearn.feature_extraction.text import TfidfVectorizer\n",
    "tfidf=TfidfVectorizer()\n",
    "X_combined=tfidf.fit_transform(df['combined']).toarray()"
   ]
  },
  {
   "cell_type": "code",
   "execution_count": 37,
   "id": "edeb8a7b-9186-47cb-8b45-d41cd9446ece",
   "metadata": {},
   "outputs": [],
   "source": [
    "X_combined_train,X_combined_test,Y_train,Y_test=train_test_split(X_combined,y,test_size=0.2,random_state=42)"
   ]
  },
  {
   "cell_type": "code",
   "execution_count": 209,
   "id": "c2a7122f-9680-49d2-84fb-d5862c80b5dd",
   "metadata": {},
   "outputs": [
    {
     "name": "stdout",
     "output_type": "stream",
     "text": [
      "0.8798798798798799\n",
      "[[732   0]\n",
      " [120 147]]\n",
      "1.0\n"
     ]
    }
   ],
   "source": [
    "mnb1.fit(X_combined_train,Y_train)\n",
    "y_preds4=mnb1.predict(X_combined_test)\n",
    "print(accuracy_score(Y_test,y_preds4))\n",
    "print(confusion_matrix(Y_test,y_preds4))\n",
    "print(precision_score(Y_test,y_preds4))"
   ]
  },
  {
   "cell_type": "code",
   "execution_count": 210,
   "id": "3cd648f7-7395-4750-9be7-05deee4c0e72",
   "metadata": {},
   "outputs": [
    {
     "name": "stdout",
     "output_type": "stream",
     "text": [
      "0.953953953953954\n",
      "[[703  29]\n",
      " [ 17 250]]\n",
      "0.8960573476702509\n"
     ]
    }
   ],
   "source": [
    "gnb1.fit(X_combined_train,Y_train)\n",
    "y_preds4=gnb1.predict(X_combined_test)\n",
    "print(accuracy_score(Y_test,y_preds4))\n",
    "print(confusion_matrix(Y_test,y_preds4))\n",
    "print(precision_score(Y_test,y_preds4))"
   ]
  },
  {
   "cell_type": "code",
   "execution_count": 213,
   "id": "6935071f-0835-4d43-998f-672bce83ebdf",
   "metadata": {},
   "outputs": [],
   "source": [
    "bnb1=BernoulliNB()"
   ]
  },
  {
   "cell_type": "code",
   "execution_count": 220,
   "id": "ebd9d509-55c3-4557-94ee-480e78616e57",
   "metadata": {},
   "outputs": [
    {
     "name": "stdout",
     "output_type": "stream",
     "text": [
      "0.8768768768768769\n",
      "[[718  14]\n",
      " [109 158]]\n",
      "0.9186046511627907\n"
     ]
    }
   ],
   "source": [
    "bnb1.fit(X_combined_train,Y_train)\n",
    "y_preds4=bnb1.predict(X_combined_test)\n",
    "print(accuracy_score(Y_test,y_preds4))\n",
    "print(confusion_matrix(Y_test,y_preds4))\n",
    "print(precision_score(Y_test,y_preds4))"
   ]
  },
  {
   "cell_type": "code",
   "execution_count": 31,
   "id": "c6c78a1e-c57b-459f-826a-3c6d94ccf9e5",
   "metadata": {},
   "outputs": [],
   "source": [
    "from sklearn.ensemble import RandomForestClassifier, ExtraTreesClassifier"
   ]
  },
  {
   "cell_type": "code",
   "execution_count": 32,
   "id": "66877d66-2950-4229-a39e-e25a3bfe2f04",
   "metadata": {},
   "outputs": [],
   "source": [
    "etc=ExtraTreesClassifier(n_estimators=50,random_state=42)\n",
    "rfc= RandomForestClassifier(n_estimators=50,random_state=42)"
   ]
  },
  {
   "cell_type": "code",
   "execution_count": 33,
   "id": "14970006-8985-4eb9-8692-d7ab56f3d91a",
   "metadata": {},
   "outputs": [],
   "source": [
    "clfs={\n",
    "    'ETC':etc,\n",
    "    'RFC':rfc,\n",
    "    'MultiNB':mnb,\n",
    "    'GaussNB':gnb\n",
    "}"
   ]
  },
  {
   "cell_type": "code",
   "execution_count": 34,
   "id": "ba466c49-87c3-4ce9-a4b0-20ca96dedca7",
   "metadata": {},
   "outputs": [],
   "source": [
    "def train_classifier(clf,X_train,X_test,Y_train,Y_test):\n",
    "    clf.fit(X_train,Y_train)\n",
    "    y_preds=clf.predict(X_test)\n",
    "    accuracy=accuracy_score(Y_test,y_preds)\n",
    "    precision=precision_score(Y_test,y_preds)\n",
    "    return accuracy,precision"
   ]
  },
  {
   "cell_type": "code",
   "execution_count": 48,
   "id": "257ad4ab-cd63-471d-bff4-254e0465b046",
   "metadata": {},
   "outputs": [
    {
     "name": "stdout",
     "output_type": "stream",
     "text": [
      "for  ETC\n",
      "Accuracy:  0.9519519519519519\n",
      "Precision:  0.9362549800796812\n",
      "for  RFC\n",
      "Accuracy:  0.9579579579579579\n",
      "Precision:  0.9377431906614786\n",
      "for  MultiNB\n",
      "Accuracy:  0.980980980980981\n",
      "Precision:  0.9626865671641791\n",
      "for  GaussNB\n",
      "Accuracy:  0.9679679679679679\n",
      "Precision:  0.9536679536679536\n"
     ]
    }
   ],
   "source": [
    "X_combined_train,X_combined_test,Y_train,Y_test=train_test_split(X_combined,y,test_size=0.2,random_state=42)\n",
    "accuracy_scores=[]\n",
    "precision_scores=[]\n",
    "for name,clf in clfs.items():\n",
    "    current_accuracy,current_precision=train_classifier(clf,X_combined_train,X_combined_test,Y_train,Y_test)\n",
    "    print(\"for \",name)\n",
    "    print(\"Accuracy: \", current_accuracy)\n",
    "    print(\"Precision: \",current_precision)\n",
    "    accuracy_scores.append(current_accuracy)\n",
    "    precision_scores.append(current_precision)\n"
   ]
  },
  {
   "cell_type": "code",
   "execution_count": 47,
   "id": "103c556b-2a65-4387-849f-0076f421f2e2",
   "metadata": {},
   "outputs": [
    {
     "name": "stdout",
     "output_type": "stream",
     "text": [
      "for  ETC\n",
      "Accuracy:  0.960960960960961\n",
      "Precision:  0.9222222222222223\n",
      "for  RFC\n",
      "Accuracy:  0.960960960960961\n",
      "Precision:  0.9285714285714286\n",
      "for  MultiNB\n",
      "Accuracy:  0.9669669669669669\n",
      "Precision:  0.95\n",
      "for  GaussNB\n",
      "Accuracy:  0.9469469469469469\n",
      "Precision:  0.9246031746031746\n"
     ]
    }
   ],
   "source": [
    "X_train, X_test,Y_train,Y_test= train_test_split(X_text,y,test_size=0.2,random_state=42)\n",
    "accuracy_scores=[]\n",
    "precision_scores=[]\n",
    "for name,clf in clfs.items():\n",
    "    current_accuracy,current_precision=train_classifier(clf,X_train,X_test,Y_train,Y_test)\n",
    "    print(\"for \",name)\n",
    "    print(\"Accuracy: \", current_accuracy)\n",
    "    print(\"Precision: \",current_precision)\n",
    "    accuracy_scores.append(current_accuracy)\n",
    "    precision_scores.append(current_precision)"
   ]
  },
  {
   "cell_type": "code",
   "execution_count": 51,
   "id": "1560a17f-153b-48ba-b69c-ec94ff329762",
   "metadata": {},
   "outputs": [
    {
     "data": {
      "text/html": [
       "<div>\n",
       "<style scoped>\n",
       "    .dataframe tbody tr th:only-of-type {\n",
       "        vertical-align: middle;\n",
       "    }\n",
       "\n",
       "    .dataframe tbody tr th {\n",
       "        vertical-align: top;\n",
       "    }\n",
       "\n",
       "    .dataframe thead th {\n",
       "        text-align: right;\n",
       "    }\n",
       "</style>\n",
       "<table border=\"1\" class=\"dataframe\">\n",
       "  <thead>\n",
       "    <tr style=\"text-align: right;\">\n",
       "      <th></th>\n",
       "      <th>Algorithm</th>\n",
       "      <th>Accuracy</th>\n",
       "      <th>Precision</th>\n",
       "    </tr>\n",
       "  </thead>\n",
       "  <tbody>\n",
       "    <tr>\n",
       "      <th>0</th>\n",
       "      <td>ETC</td>\n",
       "      <td>0.951952</td>\n",
       "      <td>0.936255</td>\n",
       "    </tr>\n",
       "    <tr>\n",
       "      <th>1</th>\n",
       "      <td>RFC</td>\n",
       "      <td>0.957958</td>\n",
       "      <td>0.937743</td>\n",
       "    </tr>\n",
       "    <tr>\n",
       "      <th>2</th>\n",
       "      <td>MultiNB</td>\n",
       "      <td>0.980981</td>\n",
       "      <td>0.962687</td>\n",
       "    </tr>\n",
       "    <tr>\n",
       "      <th>3</th>\n",
       "      <td>GaussNB</td>\n",
       "      <td>0.967968</td>\n",
       "      <td>0.953668</td>\n",
       "    </tr>\n",
       "  </tbody>\n",
       "</table>\n",
       "</div>"
      ],
      "text/plain": [
       "  Algorithm  Accuracy  Precision\n",
       "0       ETC  0.951952   0.936255\n",
       "1       RFC  0.957958   0.937743\n",
       "2   MultiNB  0.980981   0.962687\n",
       "3   GaussNB  0.967968   0.953668"
      ]
     },
     "execution_count": 51,
     "metadata": {},
     "output_type": "execute_result"
    }
   ],
   "source": [
    "pd.DataFrame({'Algorithm':clfs.keys(),'Accuracy':accuracy_scores,'Precision':precision_scores})"
   ]
  },
  {
   "cell_type": "code",
   "execution_count": 35,
   "id": "307b9e3f-ce7c-4841-977f-37aa46ea9e92",
   "metadata": {},
   "outputs": [],
   "source": [
    "from sklearn.ensemble import VotingClassifier"
   ]
  },
  {
   "cell_type": "code",
   "execution_count": 36,
   "id": "e7c5914d-4a57-4a4f-8335-d02160870d79",
   "metadata": {},
   "outputs": [],
   "source": [
    "voting = VotingClassifier(estimators=[('gnb',gnb),('multiNB',mnb)],voting='soft')"
   ]
  },
  {
   "cell_type": "code",
   "execution_count": 38,
   "id": "ce910a9d-5a6f-4595-a7a0-826be2c4599b",
   "metadata": {},
   "outputs": [
    {
     "data": {
      "text/html": [
       "<style>#sk-container-id-1 {\n",
       "  /* Definition of color scheme common for light and dark mode */\n",
       "  --sklearn-color-text: black;\n",
       "  --sklearn-color-line: gray;\n",
       "  /* Definition of color scheme for unfitted estimators */\n",
       "  --sklearn-color-unfitted-level-0: #fff5e6;\n",
       "  --sklearn-color-unfitted-level-1: #f6e4d2;\n",
       "  --sklearn-color-unfitted-level-2: #ffe0b3;\n",
       "  --sklearn-color-unfitted-level-3: chocolate;\n",
       "  /* Definition of color scheme for fitted estimators */\n",
       "  --sklearn-color-fitted-level-0: #f0f8ff;\n",
       "  --sklearn-color-fitted-level-1: #d4ebff;\n",
       "  --sklearn-color-fitted-level-2: #b3dbfd;\n",
       "  --sklearn-color-fitted-level-3: cornflowerblue;\n",
       "\n",
       "  /* Specific color for light theme */\n",
       "  --sklearn-color-text-on-default-background: var(--sg-text-color, var(--theme-code-foreground, var(--jp-content-font-color1, black)));\n",
       "  --sklearn-color-background: var(--sg-background-color, var(--theme-background, var(--jp-layout-color0, white)));\n",
       "  --sklearn-color-border-box: var(--sg-text-color, var(--theme-code-foreground, var(--jp-content-font-color1, black)));\n",
       "  --sklearn-color-icon: #696969;\n",
       "\n",
       "  @media (prefers-color-scheme: dark) {\n",
       "    /* Redefinition of color scheme for dark theme */\n",
       "    --sklearn-color-text-on-default-background: var(--sg-text-color, var(--theme-code-foreground, var(--jp-content-font-color1, white)));\n",
       "    --sklearn-color-background: var(--sg-background-color, var(--theme-background, var(--jp-layout-color0, #111)));\n",
       "    --sklearn-color-border-box: var(--sg-text-color, var(--theme-code-foreground, var(--jp-content-font-color1, white)));\n",
       "    --sklearn-color-icon: #878787;\n",
       "  }\n",
       "}\n",
       "\n",
       "#sk-container-id-1 {\n",
       "  color: var(--sklearn-color-text);\n",
       "}\n",
       "\n",
       "#sk-container-id-1 pre {\n",
       "  padding: 0;\n",
       "}\n",
       "\n",
       "#sk-container-id-1 input.sk-hidden--visually {\n",
       "  border: 0;\n",
       "  clip: rect(1px 1px 1px 1px);\n",
       "  clip: rect(1px, 1px, 1px, 1px);\n",
       "  height: 1px;\n",
       "  margin: -1px;\n",
       "  overflow: hidden;\n",
       "  padding: 0;\n",
       "  position: absolute;\n",
       "  width: 1px;\n",
       "}\n",
       "\n",
       "#sk-container-id-1 div.sk-dashed-wrapped {\n",
       "  border: 1px dashed var(--sklearn-color-line);\n",
       "  margin: 0 0.4em 0.5em 0.4em;\n",
       "  box-sizing: border-box;\n",
       "  padding-bottom: 0.4em;\n",
       "  background-color: var(--sklearn-color-background);\n",
       "}\n",
       "\n",
       "#sk-container-id-1 div.sk-container {\n",
       "  /* jupyter's `normalize.less` sets `[hidden] { display: none; }`\n",
       "     but bootstrap.min.css set `[hidden] { display: none !important; }`\n",
       "     so we also need the `!important` here to be able to override the\n",
       "     default hidden behavior on the sphinx rendered scikit-learn.org.\n",
       "     See: https://github.com/scikit-learn/scikit-learn/issues/21755 */\n",
       "  display: inline-block !important;\n",
       "  position: relative;\n",
       "}\n",
       "\n",
       "#sk-container-id-1 div.sk-text-repr-fallback {\n",
       "  display: none;\n",
       "}\n",
       "\n",
       "div.sk-parallel-item,\n",
       "div.sk-serial,\n",
       "div.sk-item {\n",
       "  /* draw centered vertical line to link estimators */\n",
       "  background-image: linear-gradient(var(--sklearn-color-text-on-default-background), var(--sklearn-color-text-on-default-background));\n",
       "  background-size: 2px 100%;\n",
       "  background-repeat: no-repeat;\n",
       "  background-position: center center;\n",
       "}\n",
       "\n",
       "/* Parallel-specific style estimator block */\n",
       "\n",
       "#sk-container-id-1 div.sk-parallel-item::after {\n",
       "  content: \"\";\n",
       "  width: 100%;\n",
       "  border-bottom: 2px solid var(--sklearn-color-text-on-default-background);\n",
       "  flex-grow: 1;\n",
       "}\n",
       "\n",
       "#sk-container-id-1 div.sk-parallel {\n",
       "  display: flex;\n",
       "  align-items: stretch;\n",
       "  justify-content: center;\n",
       "  background-color: var(--sklearn-color-background);\n",
       "  position: relative;\n",
       "}\n",
       "\n",
       "#sk-container-id-1 div.sk-parallel-item {\n",
       "  display: flex;\n",
       "  flex-direction: column;\n",
       "}\n",
       "\n",
       "#sk-container-id-1 div.sk-parallel-item:first-child::after {\n",
       "  align-self: flex-end;\n",
       "  width: 50%;\n",
       "}\n",
       "\n",
       "#sk-container-id-1 div.sk-parallel-item:last-child::after {\n",
       "  align-self: flex-start;\n",
       "  width: 50%;\n",
       "}\n",
       "\n",
       "#sk-container-id-1 div.sk-parallel-item:only-child::after {\n",
       "  width: 0;\n",
       "}\n",
       "\n",
       "/* Serial-specific style estimator block */\n",
       "\n",
       "#sk-container-id-1 div.sk-serial {\n",
       "  display: flex;\n",
       "  flex-direction: column;\n",
       "  align-items: center;\n",
       "  background-color: var(--sklearn-color-background);\n",
       "  padding-right: 1em;\n",
       "  padding-left: 1em;\n",
       "}\n",
       "\n",
       "\n",
       "/* Toggleable style: style used for estimator/Pipeline/ColumnTransformer box that is\n",
       "clickable and can be expanded/collapsed.\n",
       "- Pipeline and ColumnTransformer use this feature and define the default style\n",
       "- Estimators will overwrite some part of the style using the `sk-estimator` class\n",
       "*/\n",
       "\n",
       "/* Pipeline and ColumnTransformer style (default) */\n",
       "\n",
       "#sk-container-id-1 div.sk-toggleable {\n",
       "  /* Default theme specific background. It is overwritten whether we have a\n",
       "  specific estimator or a Pipeline/ColumnTransformer */\n",
       "  background-color: var(--sklearn-color-background);\n",
       "}\n",
       "\n",
       "/* Toggleable label */\n",
       "#sk-container-id-1 label.sk-toggleable__label {\n",
       "  cursor: pointer;\n",
       "  display: block;\n",
       "  width: 100%;\n",
       "  margin-bottom: 0;\n",
       "  padding: 0.5em;\n",
       "  box-sizing: border-box;\n",
       "  text-align: center;\n",
       "}\n",
       "\n",
       "#sk-container-id-1 label.sk-toggleable__label-arrow:before {\n",
       "  /* Arrow on the left of the label */\n",
       "  content: \"▸\";\n",
       "  float: left;\n",
       "  margin-right: 0.25em;\n",
       "  color: var(--sklearn-color-icon);\n",
       "}\n",
       "\n",
       "#sk-container-id-1 label.sk-toggleable__label-arrow:hover:before {\n",
       "  color: var(--sklearn-color-text);\n",
       "}\n",
       "\n",
       "/* Toggleable content - dropdown */\n",
       "\n",
       "#sk-container-id-1 div.sk-toggleable__content {\n",
       "  max-height: 0;\n",
       "  max-width: 0;\n",
       "  overflow: hidden;\n",
       "  text-align: left;\n",
       "  /* unfitted */\n",
       "  background-color: var(--sklearn-color-unfitted-level-0);\n",
       "}\n",
       "\n",
       "#sk-container-id-1 div.sk-toggleable__content.fitted {\n",
       "  /* fitted */\n",
       "  background-color: var(--sklearn-color-fitted-level-0);\n",
       "}\n",
       "\n",
       "#sk-container-id-1 div.sk-toggleable__content pre {\n",
       "  margin: 0.2em;\n",
       "  border-radius: 0.25em;\n",
       "  color: var(--sklearn-color-text);\n",
       "  /* unfitted */\n",
       "  background-color: var(--sklearn-color-unfitted-level-0);\n",
       "}\n",
       "\n",
       "#sk-container-id-1 div.sk-toggleable__content.fitted pre {\n",
       "  /* unfitted */\n",
       "  background-color: var(--sklearn-color-fitted-level-0);\n",
       "}\n",
       "\n",
       "#sk-container-id-1 input.sk-toggleable__control:checked~div.sk-toggleable__content {\n",
       "  /* Expand drop-down */\n",
       "  max-height: 200px;\n",
       "  max-width: 100%;\n",
       "  overflow: auto;\n",
       "}\n",
       "\n",
       "#sk-container-id-1 input.sk-toggleable__control:checked~label.sk-toggleable__label-arrow:before {\n",
       "  content: \"▾\";\n",
       "}\n",
       "\n",
       "/* Pipeline/ColumnTransformer-specific style */\n",
       "\n",
       "#sk-container-id-1 div.sk-label input.sk-toggleable__control:checked~label.sk-toggleable__label {\n",
       "  color: var(--sklearn-color-text);\n",
       "  background-color: var(--sklearn-color-unfitted-level-2);\n",
       "}\n",
       "\n",
       "#sk-container-id-1 div.sk-label.fitted input.sk-toggleable__control:checked~label.sk-toggleable__label {\n",
       "  background-color: var(--sklearn-color-fitted-level-2);\n",
       "}\n",
       "\n",
       "/* Estimator-specific style */\n",
       "\n",
       "/* Colorize estimator box */\n",
       "#sk-container-id-1 div.sk-estimator input.sk-toggleable__control:checked~label.sk-toggleable__label {\n",
       "  /* unfitted */\n",
       "  background-color: var(--sklearn-color-unfitted-level-2);\n",
       "}\n",
       "\n",
       "#sk-container-id-1 div.sk-estimator.fitted input.sk-toggleable__control:checked~label.sk-toggleable__label {\n",
       "  /* fitted */\n",
       "  background-color: var(--sklearn-color-fitted-level-2);\n",
       "}\n",
       "\n",
       "#sk-container-id-1 div.sk-label label.sk-toggleable__label,\n",
       "#sk-container-id-1 div.sk-label label {\n",
       "  /* The background is the default theme color */\n",
       "  color: var(--sklearn-color-text-on-default-background);\n",
       "}\n",
       "\n",
       "/* On hover, darken the color of the background */\n",
       "#sk-container-id-1 div.sk-label:hover label.sk-toggleable__label {\n",
       "  color: var(--sklearn-color-text);\n",
       "  background-color: var(--sklearn-color-unfitted-level-2);\n",
       "}\n",
       "\n",
       "/* Label box, darken color on hover, fitted */\n",
       "#sk-container-id-1 div.sk-label.fitted:hover label.sk-toggleable__label.fitted {\n",
       "  color: var(--sklearn-color-text);\n",
       "  background-color: var(--sklearn-color-fitted-level-2);\n",
       "}\n",
       "\n",
       "/* Estimator label */\n",
       "\n",
       "#sk-container-id-1 div.sk-label label {\n",
       "  font-family: monospace;\n",
       "  font-weight: bold;\n",
       "  display: inline-block;\n",
       "  line-height: 1.2em;\n",
       "}\n",
       "\n",
       "#sk-container-id-1 div.sk-label-container {\n",
       "  text-align: center;\n",
       "}\n",
       "\n",
       "/* Estimator-specific */\n",
       "#sk-container-id-1 div.sk-estimator {\n",
       "  font-family: monospace;\n",
       "  border: 1px dotted var(--sklearn-color-border-box);\n",
       "  border-radius: 0.25em;\n",
       "  box-sizing: border-box;\n",
       "  margin-bottom: 0.5em;\n",
       "  /* unfitted */\n",
       "  background-color: var(--sklearn-color-unfitted-level-0);\n",
       "}\n",
       "\n",
       "#sk-container-id-1 div.sk-estimator.fitted {\n",
       "  /* fitted */\n",
       "  background-color: var(--sklearn-color-fitted-level-0);\n",
       "}\n",
       "\n",
       "/* on hover */\n",
       "#sk-container-id-1 div.sk-estimator:hover {\n",
       "  /* unfitted */\n",
       "  background-color: var(--sklearn-color-unfitted-level-2);\n",
       "}\n",
       "\n",
       "#sk-container-id-1 div.sk-estimator.fitted:hover {\n",
       "  /* fitted */\n",
       "  background-color: var(--sklearn-color-fitted-level-2);\n",
       "}\n",
       "\n",
       "/* Specification for estimator info (e.g. \"i\" and \"?\") */\n",
       "\n",
       "/* Common style for \"i\" and \"?\" */\n",
       "\n",
       ".sk-estimator-doc-link,\n",
       "a:link.sk-estimator-doc-link,\n",
       "a:visited.sk-estimator-doc-link {\n",
       "  float: right;\n",
       "  font-size: smaller;\n",
       "  line-height: 1em;\n",
       "  font-family: monospace;\n",
       "  background-color: var(--sklearn-color-background);\n",
       "  border-radius: 1em;\n",
       "  height: 1em;\n",
       "  width: 1em;\n",
       "  text-decoration: none !important;\n",
       "  margin-left: 1ex;\n",
       "  /* unfitted */\n",
       "  border: var(--sklearn-color-unfitted-level-1) 1pt solid;\n",
       "  color: var(--sklearn-color-unfitted-level-1);\n",
       "}\n",
       "\n",
       ".sk-estimator-doc-link.fitted,\n",
       "a:link.sk-estimator-doc-link.fitted,\n",
       "a:visited.sk-estimator-doc-link.fitted {\n",
       "  /* fitted */\n",
       "  border: var(--sklearn-color-fitted-level-1) 1pt solid;\n",
       "  color: var(--sklearn-color-fitted-level-1);\n",
       "}\n",
       "\n",
       "/* On hover */\n",
       "div.sk-estimator:hover .sk-estimator-doc-link:hover,\n",
       ".sk-estimator-doc-link:hover,\n",
       "div.sk-label-container:hover .sk-estimator-doc-link:hover,\n",
       ".sk-estimator-doc-link:hover {\n",
       "  /* unfitted */\n",
       "  background-color: var(--sklearn-color-unfitted-level-3);\n",
       "  color: var(--sklearn-color-background);\n",
       "  text-decoration: none;\n",
       "}\n",
       "\n",
       "div.sk-estimator.fitted:hover .sk-estimator-doc-link.fitted:hover,\n",
       ".sk-estimator-doc-link.fitted:hover,\n",
       "div.sk-label-container:hover .sk-estimator-doc-link.fitted:hover,\n",
       ".sk-estimator-doc-link.fitted:hover {\n",
       "  /* fitted */\n",
       "  background-color: var(--sklearn-color-fitted-level-3);\n",
       "  color: var(--sklearn-color-background);\n",
       "  text-decoration: none;\n",
       "}\n",
       "\n",
       "/* Span, style for the box shown on hovering the info icon */\n",
       ".sk-estimator-doc-link span {\n",
       "  display: none;\n",
       "  z-index: 9999;\n",
       "  position: relative;\n",
       "  font-weight: normal;\n",
       "  right: .2ex;\n",
       "  padding: .5ex;\n",
       "  margin: .5ex;\n",
       "  width: min-content;\n",
       "  min-width: 20ex;\n",
       "  max-width: 50ex;\n",
       "  color: var(--sklearn-color-text);\n",
       "  box-shadow: 2pt 2pt 4pt #999;\n",
       "  /* unfitted */\n",
       "  background: var(--sklearn-color-unfitted-level-0);\n",
       "  border: .5pt solid var(--sklearn-color-unfitted-level-3);\n",
       "}\n",
       "\n",
       ".sk-estimator-doc-link.fitted span {\n",
       "  /* fitted */\n",
       "  background: var(--sklearn-color-fitted-level-0);\n",
       "  border: var(--sklearn-color-fitted-level-3);\n",
       "}\n",
       "\n",
       ".sk-estimator-doc-link:hover span {\n",
       "  display: block;\n",
       "}\n",
       "\n",
       "/* \"?\"-specific style due to the `<a>` HTML tag */\n",
       "\n",
       "#sk-container-id-1 a.estimator_doc_link {\n",
       "  float: right;\n",
       "  font-size: 1rem;\n",
       "  line-height: 1em;\n",
       "  font-family: monospace;\n",
       "  background-color: var(--sklearn-color-background);\n",
       "  border-radius: 1rem;\n",
       "  height: 1rem;\n",
       "  width: 1rem;\n",
       "  text-decoration: none;\n",
       "  /* unfitted */\n",
       "  color: var(--sklearn-color-unfitted-level-1);\n",
       "  border: var(--sklearn-color-unfitted-level-1) 1pt solid;\n",
       "}\n",
       "\n",
       "#sk-container-id-1 a.estimator_doc_link.fitted {\n",
       "  /* fitted */\n",
       "  border: var(--sklearn-color-fitted-level-1) 1pt solid;\n",
       "  color: var(--sklearn-color-fitted-level-1);\n",
       "}\n",
       "\n",
       "/* On hover */\n",
       "#sk-container-id-1 a.estimator_doc_link:hover {\n",
       "  /* unfitted */\n",
       "  background-color: var(--sklearn-color-unfitted-level-3);\n",
       "  color: var(--sklearn-color-background);\n",
       "  text-decoration: none;\n",
       "}\n",
       "\n",
       "#sk-container-id-1 a.estimator_doc_link.fitted:hover {\n",
       "  /* fitted */\n",
       "  background-color: var(--sklearn-color-fitted-level-3);\n",
       "}\n",
       "</style><div id=\"sk-container-id-1\" class=\"sk-top-container\"><div class=\"sk-text-repr-fallback\"><pre>VotingClassifier(estimators=[(&#x27;gnb&#x27;, GaussianNB()),\n",
       "                             (&#x27;multiNB&#x27;, MultinomialNB())],\n",
       "                 voting=&#x27;soft&#x27;)</pre><b>In a Jupyter environment, please rerun this cell to show the HTML representation or trust the notebook. <br />On GitHub, the HTML representation is unable to render, please try loading this page with nbviewer.org.</b></div><div class=\"sk-container\" hidden><div class=\"sk-item sk-dashed-wrapped\"><div class=\"sk-label-container\"><div class=\"sk-label fitted sk-toggleable\"><input class=\"sk-toggleable__control sk-hidden--visually\" id=\"sk-estimator-id-1\" type=\"checkbox\" ><label for=\"sk-estimator-id-1\" class=\"sk-toggleable__label fitted sk-toggleable__label-arrow fitted\">&nbsp;&nbsp;VotingClassifier<a class=\"sk-estimator-doc-link fitted\" rel=\"noreferrer\" target=\"_blank\" href=\"https://scikit-learn.org/1.4/modules/generated/sklearn.ensemble.VotingClassifier.html\">?<span>Documentation for VotingClassifier</span></a><span class=\"sk-estimator-doc-link fitted\">i<span>Fitted</span></span></label><div class=\"sk-toggleable__content fitted\"><pre>VotingClassifier(estimators=[(&#x27;gnb&#x27;, GaussianNB()),\n",
       "                             (&#x27;multiNB&#x27;, MultinomialNB())],\n",
       "                 voting=&#x27;soft&#x27;)</pre></div> </div></div><div class=\"sk-parallel\"><div class=\"sk-parallel-item\"><div class=\"sk-item\"><div class=\"sk-label-container\"><div class=\"sk-label fitted sk-toggleable\"><label>gnb</label></div></div><div class=\"sk-serial\"><div class=\"sk-item\"><div class=\"sk-estimator fitted sk-toggleable\"><input class=\"sk-toggleable__control sk-hidden--visually\" id=\"sk-estimator-id-2\" type=\"checkbox\" ><label for=\"sk-estimator-id-2\" class=\"sk-toggleable__label fitted sk-toggleable__label-arrow fitted\">&nbsp;GaussianNB<a class=\"sk-estimator-doc-link fitted\" rel=\"noreferrer\" target=\"_blank\" href=\"https://scikit-learn.org/1.4/modules/generated/sklearn.naive_bayes.GaussianNB.html\">?<span>Documentation for GaussianNB</span></a></label><div class=\"sk-toggleable__content fitted\"><pre>GaussianNB()</pre></div> </div></div></div></div></div><div class=\"sk-parallel-item\"><div class=\"sk-item\"><div class=\"sk-label-container\"><div class=\"sk-label fitted sk-toggleable\"><label>multiNB</label></div></div><div class=\"sk-serial\"><div class=\"sk-item\"><div class=\"sk-estimator fitted sk-toggleable\"><input class=\"sk-toggleable__control sk-hidden--visually\" id=\"sk-estimator-id-3\" type=\"checkbox\" ><label for=\"sk-estimator-id-3\" class=\"sk-toggleable__label fitted sk-toggleable__label-arrow fitted\">&nbsp;MultinomialNB<a class=\"sk-estimator-doc-link fitted\" rel=\"noreferrer\" target=\"_blank\" href=\"https://scikit-learn.org/1.4/modules/generated/sklearn.naive_bayes.MultinomialNB.html\">?<span>Documentation for MultinomialNB</span></a></label><div class=\"sk-toggleable__content fitted\"><pre>MultinomialNB()</pre></div> </div></div></div></div></div></div></div></div></div>"
      ],
      "text/plain": [
       "VotingClassifier(estimators=[('gnb', GaussianNB()),\n",
       "                             ('multiNB', MultinomialNB())],\n",
       "                 voting='soft')"
      ]
     },
     "execution_count": 38,
     "metadata": {},
     "output_type": "execute_result"
    }
   ],
   "source": [
    "voting.fit(X_combined_train,Y_train)"
   ]
  },
  {
   "cell_type": "code",
   "execution_count": 39,
   "id": "d1a6f087-abdf-46d0-96f8-17901dfa3f60",
   "metadata": {},
   "outputs": [],
   "source": [
    "y_preds=voting.predict(X_combined_test)"
   ]
  },
  {
   "cell_type": "code",
   "execution_count": 43,
   "id": "02caf71b-b599-45ae-97c4-d6da91698192",
   "metadata": {},
   "outputs": [
    {
     "name": "stdout",
     "output_type": "stream",
     "text": [
      "Accuracy  0.970970970970971\n",
      "Precision  0.96484375\n"
     ]
    }
   ],
   "source": [
    "print(\"Accuracy \",accuracy_score(Y_test,y_preds))\n",
    "print(\"Precision \",precision_score(Y_test,y_preds))"
   ]
  },
  {
   "cell_type": "code",
   "execution_count": 79,
   "id": "cf0e5d3b-a971-4a43-83fd-5fb4bb900196",
   "metadata": {},
   "outputs": [],
   "source": [
    "import pickle\n",
    "pickle.dump(cv,open('Vectorizer.pkl','wb'))\n",
    "pickle.dump(mnb,open('model.pkl','wb'))"
   ]
  },
  {
   "cell_type": "code",
   "execution_count": 81,
   "id": "2d4a2040-977c-4b1e-a7f4-cf5f800e0415",
   "metadata": {},
   "outputs": [
    {
     "data": {
      "text/plain": [
       "'vance    deals   348725   6   10   6   30   and   348729   7   1   7   31   have been created and  entered in sitara for hesco    hillary    do not confirm    bob  vance l taylor  07   28   2000 01   24 pm  to   robert cotten   hou   ect   ect  cc   lisa hesse   hou   ect   ect   trisha hughes   hou   ect   ect   heidi  withers   hou   ect   ect   hillary mack   corp   enron   enron   susan smith   hou   ect   ect    donald p reinhardt   hou   ect   ect   melissa graves   hou   ect   ect  subject   new production   sitara deals needed  bob    the following production is now on   line and a ticket should be created and  entered into sitara based on the following    counterparty meter volumes price period  hesco gathering oil co 9835 600 mmbtu   d 96   gas daily less   0   14  6   10   7   31  samson lone star limited 9845 3000 mmbtu   d 100   gas daily less   0   10 7   21    7   31  winn exploration co     inc   9847 800 mmbtu   d 100   gas daily less   0   13 7   25    7   31    for fuel use less 3   35   of del vols    fyi   susan has created and submitted committed reserves firm tickets for the  remaining term of the deal beginning with the month of august   additionally    these are producer svcs   deals and should be tracked in the im wellhead  portfolio       attached to the gathering contract    thanks    vlt  x 3   6353'"
      ]
     },
     "execution_count": 81,
     "metadata": {},
     "output_type": "execute_result"
    }
   ],
   "source": [
    "df.iloc[45]['text']"
   ]
  },
  {
   "cell_type": "code",
   "execution_count": null,
   "id": "9a1db796-eb65-4699-8cad-fd0306a7eaff",
   "metadata": {},
   "outputs": [],
   "source": []
  }
 ],
 "metadata": {
  "kernelspec": {
   "display_name": "Python 3 (ipykernel)",
   "language": "python",
   "name": "python3"
  },
  "language_info": {
   "codemirror_mode": {
    "name": "ipython",
    "version": 3
   },
   "file_extension": ".py",
   "mimetype": "text/x-python",
   "name": "python",
   "nbconvert_exporter": "python",
   "pygments_lexer": "ipython3",
   "version": "3.11.8"
  }
 },
 "nbformat": 4,
 "nbformat_minor": 5
}
